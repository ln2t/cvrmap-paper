{
 "cells": [
  {
   "cell_type": "markdown",
   "id": "4a566570",
   "metadata": {},
   "source": [
    "# CVRmap paper: figures"
   ]
  },
  {
   "cell_type": "markdown",
   "id": "f69e87db",
   "metadata": {},
   "source": [
    "## Readme!"
   ]
  },
  {
   "cell_type": "markdown",
   "id": "6e017ca8",
   "metadata": {},
   "source": [
    "The goal of this notebook is to reproduce the figures of the main CVRmap paper.\n",
    "\n",
    "Instructions to run this notebook can be found at `github.com/ln2t/cvrmap-paper`."
   ]
  },
  {
   "cell_type": "markdown",
   "id": "a835cdad",
   "metadata": {},
   "source": [
    "__Beware: you must adapt the following paths for this notebook to work!__"
   ]
  },
  {
   "cell_type": "code",
   "execution_count": null,
   "id": "79307134",
   "metadata": {},
   "outputs": [],
   "source": [
    "bids_dir = '/path/to/bids/dataset'\n",
    "fmriprep_dir = '/path/to/fmriprep/derivatives'\n",
    "cvrmap_dir = '/path/to/cvrmap/derivatives'"
   ]
  },
  {
   "cell_type": "raw",
   "id": "ceabb080",
   "metadata": {},
   "source": [
    "Side note: another typical set-up is using a root folder as follows, but this is only a recommandation:\n",
    "\n",
    "```\n",
    "root = '/data/dsXXXX'\n",
    "from os.path import join\n",
    "bids_dir = join(root, 'rawdata')\n",
    "cvrmap_dir = join(root, 'derivatives', 'cvrmap')\n",
    "fmriprep_dir = join(root, 'derivatives', 'fmriprep')\n",
    "```"
   ]
  },
  {
   "cell_type": "code",
   "execution_count": 1,
   "id": "06a805d2",
   "metadata": {},
   "outputs": [],
   "source": [
    "bids_dir = '/mnt/erasme/openneuro/ds004604'\n",
    "from os.path import join\n",
    "cvrmap_dir = join(bids_dir, 'derivatives', 'cvrmap')\n",
    "fmriprep_dir = join(bids_dir, 'derivatives', 'fmriprep')"
   ]
  },
  {
   "cell_type": "markdown",
   "id": "f2647b70",
   "metadata": {},
   "source": [
    "## Preliminaries"
   ]
  },
  {
   "cell_type": "markdown",
   "id": "a39114cf",
   "metadata": {},
   "source": [
    "### Imports"
   ]
  },
  {
   "cell_type": "code",
   "execution_count": 2,
   "id": "9be14ec9",
   "metadata": {},
   "outputs": [],
   "source": [
    "import pandas as pd\n",
    "import numpy as np\n",
    "import scipy\n",
    "from plotly import graph_objects as go\n",
    "from bids import BIDSLayout as bidslayout\n",
    "import nibabel as nb\n",
    "from nilearn import plotting, masking, image\n",
    "from nilearn.glm.second_level import SecondLevelModel"
   ]
  },
  {
   "cell_type": "markdown",
   "id": "804c2c1e",
   "metadata": {},
   "source": [
    "### Bids load"
   ]
  },
  {
   "cell_type": "code",
   "execution_count": 34,
   "id": "ba0bcc6a",
   "metadata": {},
   "outputs": [],
   "source": [
    "space = 'MNI152NLin2009cAsym'"
   ]
  },
  {
   "cell_type": "code",
   "execution_count": 4,
   "id": "7f0e0b21",
   "metadata": {},
   "outputs": [],
   "source": [
    "layout = bidslayout(bids_dir, validate=False)\n",
    "layout.add_derivatives(cvrmap_dir, validate=False)\n",
    "layout.add_derivatives(fmriprep_dir, validate=False)"
   ]
  },
  {
   "cell_type": "markdown",
   "id": "070039b2",
   "metadata": {},
   "source": [
    "### Fetch data"
   ]
  },
  {
   "cell_type": "code",
   "execution_count": 6,
   "id": "761a368f",
   "metadata": {},
   "outputs": [],
   "source": [
    "data_filter = dict(return_type='filename', extension='.nii.gz', space=space)"
   ]
  },
  {
   "cell_type": "markdown",
   "id": "332c9ec0",
   "metadata": {},
   "source": [
    "Get CVR and delay data:"
   ]
  },
  {
   "cell_type": "code",
   "execution_count": 14,
   "id": "edcc0a83",
   "metadata": {},
   "outputs": [],
   "source": [
    "cvr_fn = []\n",
    "for item in layout.derivatives['cvrmap'].get(**data_filter, suffix='cvr'):\n",
    "    cvr_fn.append(image.load_img(item))"
   ]
  },
  {
   "cell_type": "markdown",
   "id": "aa98c566",
   "metadata": {},
   "source": [
    "Harmonize affines (this is necessary if affines are not exactly the same in fmriprep outputs):"
   ]
  },
  {
   "cell_type": "code",
   "execution_count": 16,
   "id": "f8374aea",
   "metadata": {},
   "outputs": [],
   "source": [
    "cvr_img = []\n",
    "\n",
    "_ref = cvr_fn[0]\n",
    "for _img in cvr_fn:\n",
    "    cvr_img.append(image.resample_to_img(_img, _ref))"
   ]
  },
  {
   "cell_type": "code",
   "execution_count": 17,
   "id": "44121970",
   "metadata": {},
   "outputs": [],
   "source": [
    "delays_fn = []\n",
    "for item in layout.derivatives['cvrmap'].get(**data_filter, suffix='delay'):\n",
    "    delays_fn.append(image.load_img(item))"
   ]
  },
  {
   "cell_type": "markdown",
   "id": "e00b70e4",
   "metadata": {},
   "source": [
    "Harmonize affines"
   ]
  },
  {
   "cell_type": "code",
   "execution_count": 18,
   "id": "c253b53b",
   "metadata": {},
   "outputs": [],
   "source": [
    "delays_img = []\n",
    "\n",
    "_ref = delays_fn[0]\n",
    "for _img in delays_fn:\n",
    "    delays_img.append(image.resample_to_img(_img, _ref))"
   ]
  },
  {
   "cell_type": "markdown",
   "id": "4d57265a",
   "metadata": {},
   "source": [
    "Extract all masks"
   ]
  },
  {
   "cell_type": "code",
   "execution_count": 23,
   "id": "d49e39f7",
   "metadata": {},
   "outputs": [],
   "source": [
    "brainmask_fn = []\n",
    "for item in layout.derivatives['fMRIPrep'].get(**data_filter, desc='brain', task='gas', suffix='mask'):\n",
    "    brainmask_fn.append(image.load_img(item))"
   ]
  },
  {
   "cell_type": "markdown",
   "id": "aac5747c",
   "metadata": {},
   "source": [
    "Harmonize affines"
   ]
  },
  {
   "cell_type": "code",
   "execution_count": 24,
   "id": "3aaa2bc1",
   "metadata": {},
   "outputs": [],
   "source": [
    "brainmask_img = []\n",
    "\n",
    "_ref = brainmask_fn[0]\n",
    "for _img in brainmask_fn:\n",
    "    brainmask_img.append(image.resample_to_img(_img, _ref, interpolation='nearest'))"
   ]
  },
  {
   "cell_type": "markdown",
   "id": "31ec9049",
   "metadata": {},
   "source": [
    "Compute intersection of all masks:"
   ]
  },
  {
   "cell_type": "code",
   "execution_count": 25,
   "id": "362061d5",
   "metadata": {
    "scrolled": true
   },
   "outputs": [],
   "source": [
    "mask_intersection = brainmask_img[0]\n",
    "for mask in brainmask_img:\n",
    "    mask_intersection = image.math_img('(img1>0)*img2', img1=mask, img2=mask_intersection)"
   ]
  },
  {
   "cell_type": "markdown",
   "id": "8b7dccd5",
   "metadata": {},
   "source": [
    "Load participants.tsv file to extract age:"
   ]
  },
  {
   "cell_type": "code",
   "execution_count": 26,
   "id": "b38e79e0",
   "metadata": {},
   "outputs": [],
   "source": [
    "participants_fn = layout.get(return_type='filename', extension='.tsv', scope='raw')[0]\n",
    "participants_df = pd.read_csv(participants_fn, sep='\\t')"
   ]
  },
  {
   "cell_type": "markdown",
   "id": "6c4c4b6d",
   "metadata": {},
   "source": [
    "### Some basic data processing"
   ]
  },
  {
   "cell_type": "markdown",
   "id": "079daf29",
   "metadata": {},
   "source": [
    "#### Mean corrected for age effect"
   ]
  },
  {
   "cell_type": "markdown",
   "id": "3f51cf00",
   "metadata": {},
   "source": [
    "Normalize the age regressors:"
   ]
  },
  {
   "cell_type": "code",
   "execution_count": 27,
   "id": "6a890caa",
   "metadata": {},
   "outputs": [],
   "source": [
    "ages = participants_df['age'].values\n",
    "ages = ages - np.mean(ages)\n",
    "ages = ages.reshape((-1,1))"
   ]
  },
  {
   "cell_type": "markdown",
   "id": "489ad7b3",
   "metadata": {},
   "source": [
    "Define design matrix with a constant term and age:"
   ]
  },
  {
   "cell_type": "code",
   "execution_count": 28,
   "id": "629fc84b",
   "metadata": {},
   "outputs": [],
   "source": [
    "design_matrix = pd.DataFrame(\n",
    "    np.hstack((ages, np.ones_like(ages))),\n",
    "    columns=['age', 'intercept'])"
   ]
  },
  {
   "cell_type": "markdown",
   "id": "2740f68f",
   "metadata": {},
   "source": [
    "Fit the model to the CVR and delay data:"
   ]
  },
  {
   "cell_type": "code",
   "execution_count": 29,
   "id": "0869a026",
   "metadata": {},
   "outputs": [],
   "source": [
    "cvr_second_level_model = SecondLevelModel(mask_img=mask_intersection, smoothing_fwhm=5).fit(\n",
    "    cvr_img, design_matrix=design_matrix)"
   ]
  },
  {
   "cell_type": "code",
   "execution_count": 30,
   "id": "a094d9cc",
   "metadata": {},
   "outputs": [],
   "source": [
    "delays_second_level_model = SecondLevelModel(mask_img=mask_intersection, smoothing_fwhm=5).fit(\n",
    "    delays_img, design_matrix=design_matrix)"
   ]
  },
  {
   "cell_type": "markdown",
   "id": "16f3dfff",
   "metadata": {},
   "source": [
    "Compute the contrasts for the intercept, and extract effect size for each type of data:"
   ]
  },
  {
   "cell_type": "code",
   "execution_count": 31,
   "id": "645bc39b",
   "metadata": {},
   "outputs": [],
   "source": [
    "cvr_con = cvr_second_level_model.compute_contrast(second_level_contrast='intercept', output_type='effect_size')"
   ]
  },
  {
   "cell_type": "code",
   "execution_count": 32,
   "id": "5615c26d",
   "metadata": {},
   "outputs": [],
   "source": [
    "delays_con = delays_second_level_model.compute_contrast(second_level_contrast='intercept', output_type='effect_size')"
   ]
  },
  {
   "cell_type": "markdown",
   "id": "b31ab2ff",
   "metadata": {},
   "source": [
    "#### CVR by age-group and regressions"
   ]
  },
  {
   "cell_type": "code",
   "execution_count": 47,
   "id": "4706fc71",
   "metadata": {
    "scrolled": true
   },
   "outputs": [
    {
     "name": "stderr",
     "output_type": "stream",
     "text": [
      "/home/arovai/miniconda3/envs/cvrmap_paper/lib/python3.11/site-packages/nilearn/image/image.py:1041: UserWarning:\n",
      "\n",
      "Data array used to create a new image contains 64-bit ints. This is likely due to creating the array with numpy and passing `int` as the `dtype`. Many tools such as FSL and SPM cannot deal with int64 in Nifti images, so for compatibility the data has been converted to int32.\n",
      "\n",
      "/home/arovai/miniconda3/envs/cvrmap_paper/lib/python3.11/site-packages/nilearn/image/image.py:1041: UserWarning:\n",
      "\n",
      "Data array used to create a new image contains 64-bit ints. This is likely due to creating the array with numpy and passing `int` as the `dtype`. Many tools such as FSL and SPM cannot deal with int64 in Nifti images, so for compatibility the data has been converted to int32.\n",
      "\n",
      "/home/arovai/miniconda3/envs/cvrmap_paper/lib/python3.11/site-packages/nilearn/image/image.py:1041: UserWarning:\n",
      "\n",
      "Data array used to create a new image contains 64-bit ints. This is likely due to creating the array with numpy and passing `int` as the `dtype`. Many tools such as FSL and SPM cannot deal with int64 in Nifti images, so for compatibility the data has been converted to int32.\n",
      "\n",
      "/home/arovai/miniconda3/envs/cvrmap_paper/lib/python3.11/site-packages/nilearn/image/image.py:1041: UserWarning:\n",
      "\n",
      "Data array used to create a new image contains 64-bit ints. This is likely due to creating the array with numpy and passing `int` as the `dtype`. Many tools such as FSL and SPM cannot deal with int64 in Nifti images, so for compatibility the data has been converted to int32.\n",
      "\n",
      "/home/arovai/miniconda3/envs/cvrmap_paper/lib/python3.11/site-packages/nilearn/image/image.py:1041: UserWarning:\n",
      "\n",
      "Data array used to create a new image contains 64-bit ints. This is likely due to creating the array with numpy and passing `int` as the `dtype`. Many tools such as FSL and SPM cannot deal with int64 in Nifti images, so for compatibility the data has been converted to int32.\n",
      "\n",
      "/home/arovai/miniconda3/envs/cvrmap_paper/lib/python3.11/site-packages/nilearn/image/image.py:1041: UserWarning:\n",
      "\n",
      "Data array used to create a new image contains 64-bit ints. This is likely due to creating the array with numpy and passing `int` as the `dtype`. Many tools such as FSL and SPM cannot deal with int64 in Nifti images, so for compatibility the data has been converted to int32.\n",
      "\n",
      "/home/arovai/miniconda3/envs/cvrmap_paper/lib/python3.11/site-packages/nilearn/image/image.py:1041: UserWarning:\n",
      "\n",
      "Data array used to create a new image contains 64-bit ints. This is likely due to creating the array with numpy and passing `int` as the `dtype`. Many tools such as FSL and SPM cannot deal with int64 in Nifti images, so for compatibility the data has been converted to int32.\n",
      "\n",
      "/home/arovai/miniconda3/envs/cvrmap_paper/lib/python3.11/site-packages/nilearn/image/image.py:1041: UserWarning:\n",
      "\n",
      "Data array used to create a new image contains 64-bit ints. This is likely due to creating the array with numpy and passing `int` as the `dtype`. Many tools such as FSL and SPM cannot deal with int64 in Nifti images, so for compatibility the data has been converted to int32.\n",
      "\n",
      "/home/arovai/miniconda3/envs/cvrmap_paper/lib/python3.11/site-packages/nilearn/image/image.py:1041: UserWarning:\n",
      "\n",
      "Data array used to create a new image contains 64-bit ints. This is likely due to creating the array with numpy and passing `int` as the `dtype`. Many tools such as FSL and SPM cannot deal with int64 in Nifti images, so for compatibility the data has been converted to int32.\n",
      "\n",
      "/home/arovai/miniconda3/envs/cvrmap_paper/lib/python3.11/site-packages/nilearn/image/image.py:1041: UserWarning:\n",
      "\n",
      "Data array used to create a new image contains 64-bit ints. This is likely due to creating the array with numpy and passing `int` as the `dtype`. Many tools such as FSL and SPM cannot deal with int64 in Nifti images, so for compatibility the data has been converted to int32.\n",
      "\n",
      "/home/arovai/miniconda3/envs/cvrmap_paper/lib/python3.11/site-packages/nilearn/image/image.py:1041: UserWarning:\n",
      "\n",
      "Data array used to create a new image contains 64-bit ints. This is likely due to creating the array with numpy and passing `int` as the `dtype`. Many tools such as FSL and SPM cannot deal with int64 in Nifti images, so for compatibility the data has been converted to int32.\n",
      "\n",
      "/home/arovai/miniconda3/envs/cvrmap_paper/lib/python3.11/site-packages/nilearn/image/image.py:1041: UserWarning:\n",
      "\n",
      "Data array used to create a new image contains 64-bit ints. This is likely due to creating the array with numpy and passing `int` as the `dtype`. Many tools such as FSL and SPM cannot deal with int64 in Nifti images, so for compatibility the data has been converted to int32.\n",
      "\n",
      "/home/arovai/miniconda3/envs/cvrmap_paper/lib/python3.11/site-packages/nilearn/image/image.py:1041: UserWarning:\n",
      "\n",
      "Data array used to create a new image contains 64-bit ints. This is likely due to creating the array with numpy and passing `int` as the `dtype`. Many tools such as FSL and SPM cannot deal with int64 in Nifti images, so for compatibility the data has been converted to int32.\n",
      "\n",
      "/home/arovai/miniconda3/envs/cvrmap_paper/lib/python3.11/site-packages/nilearn/image/image.py:1041: UserWarning:\n",
      "\n",
      "Data array used to create a new image contains 64-bit ints. This is likely due to creating the array with numpy and passing `int` as the `dtype`. Many tools such as FSL and SPM cannot deal with int64 in Nifti images, so for compatibility the data has been converted to int32.\n",
      "\n",
      "/home/arovai/miniconda3/envs/cvrmap_paper/lib/python3.11/site-packages/nilearn/image/image.py:1041: UserWarning:\n",
      "\n",
      "Data array used to create a new image contains 64-bit ints. This is likely due to creating the array with numpy and passing `int` as the `dtype`. Many tools such as FSL and SPM cannot deal with int64 in Nifti images, so for compatibility the data has been converted to int32.\n",
      "\n",
      "/home/arovai/miniconda3/envs/cvrmap_paper/lib/python3.11/site-packages/nilearn/image/image.py:1041: UserWarning:\n",
      "\n",
      "Data array used to create a new image contains 64-bit ints. This is likely due to creating the array with numpy and passing `int` as the `dtype`. Many tools such as FSL and SPM cannot deal with int64 in Nifti images, so for compatibility the data has been converted to int32.\n",
      "\n",
      "/home/arovai/miniconda3/envs/cvrmap_paper/lib/python3.11/site-packages/nilearn/image/image.py:1041: UserWarning:\n",
      "\n",
      "Data array used to create a new image contains 64-bit ints. This is likely due to creating the array with numpy and passing `int` as the `dtype`. Many tools such as FSL and SPM cannot deal with int64 in Nifti images, so for compatibility the data has been converted to int32.\n",
      "\n",
      "/home/arovai/miniconda3/envs/cvrmap_paper/lib/python3.11/site-packages/nilearn/image/image.py:1041: UserWarning:\n",
      "\n",
      "Data array used to create a new image contains 64-bit ints. This is likely due to creating the array with numpy and passing `int` as the `dtype`. Many tools such as FSL and SPM cannot deal with int64 in Nifti images, so for compatibility the data has been converted to int32.\n",
      "\n",
      "/home/arovai/miniconda3/envs/cvrmap_paper/lib/python3.11/site-packages/nilearn/image/image.py:1041: UserWarning:\n",
      "\n",
      "Data array used to create a new image contains 64-bit ints. This is likely due to creating the array with numpy and passing `int` as the `dtype`. Many tools such as FSL and SPM cannot deal with int64 in Nifti images, so for compatibility the data has been converted to int32.\n",
      "\n",
      "/home/arovai/miniconda3/envs/cvrmap_paper/lib/python3.11/site-packages/nilearn/image/image.py:1041: UserWarning:\n",
      "\n",
      "Data array used to create a new image contains 64-bit ints. This is likely due to creating the array with numpy and passing `int` as the `dtype`. Many tools such as FSL and SPM cannot deal with int64 in Nifti images, so for compatibility the data has been converted to int32.\n",
      "\n",
      "/home/arovai/miniconda3/envs/cvrmap_paper/lib/python3.11/site-packages/nilearn/image/image.py:1041: UserWarning:\n",
      "\n",
      "Data array used to create a new image contains 64-bit ints. This is likely due to creating the array with numpy and passing `int` as the `dtype`. Many tools such as FSL and SPM cannot deal with int64 in Nifti images, so for compatibility the data has been converted to int32.\n",
      "\n"
     ]
    },
    {
     "name": "stderr",
     "output_type": "stream",
     "text": [
      "/home/arovai/miniconda3/envs/cvrmap_paper/lib/python3.11/site-packages/nilearn/image/image.py:1041: UserWarning:\n",
      "\n",
      "Data array used to create a new image contains 64-bit ints. This is likely due to creating the array with numpy and passing `int` as the `dtype`. Many tools such as FSL and SPM cannot deal with int64 in Nifti images, so for compatibility the data has been converted to int32.\n",
      "\n",
      "/home/arovai/miniconda3/envs/cvrmap_paper/lib/python3.11/site-packages/nilearn/image/image.py:1041: UserWarning:\n",
      "\n",
      "Data array used to create a new image contains 64-bit ints. This is likely due to creating the array with numpy and passing `int` as the `dtype`. Many tools such as FSL and SPM cannot deal with int64 in Nifti images, so for compatibility the data has been converted to int32.\n",
      "\n",
      "/home/arovai/miniconda3/envs/cvrmap_paper/lib/python3.11/site-packages/nilearn/image/image.py:1041: UserWarning:\n",
      "\n",
      "Data array used to create a new image contains 64-bit ints. This is likely due to creating the array with numpy and passing `int` as the `dtype`. Many tools such as FSL and SPM cannot deal with int64 in Nifti images, so for compatibility the data has been converted to int32.\n",
      "\n",
      "/home/arovai/miniconda3/envs/cvrmap_paper/lib/python3.11/site-packages/nilearn/image/image.py:1041: UserWarning:\n",
      "\n",
      "Data array used to create a new image contains 64-bit ints. This is likely due to creating the array with numpy and passing `int` as the `dtype`. Many tools such as FSL and SPM cannot deal with int64 in Nifti images, so for compatibility the data has been converted to int32.\n",
      "\n",
      "/home/arovai/miniconda3/envs/cvrmap_paper/lib/python3.11/site-packages/nilearn/image/image.py:1041: UserWarning:\n",
      "\n",
      "Data array used to create a new image contains 64-bit ints. This is likely due to creating the array with numpy and passing `int` as the `dtype`. Many tools such as FSL and SPM cannot deal with int64 in Nifti images, so for compatibility the data has been converted to int32.\n",
      "\n",
      "/home/arovai/miniconda3/envs/cvrmap_paper/lib/python3.11/site-packages/nilearn/image/image.py:1041: UserWarning:\n",
      "\n",
      "Data array used to create a new image contains 64-bit ints. This is likely due to creating the array with numpy and passing `int` as the `dtype`. Many tools such as FSL and SPM cannot deal with int64 in Nifti images, so for compatibility the data has been converted to int32.\n",
      "\n",
      "/home/arovai/miniconda3/envs/cvrmap_paper/lib/python3.11/site-packages/nilearn/image/image.py:1041: UserWarning:\n",
      "\n",
      "Data array used to create a new image contains 64-bit ints. This is likely due to creating the array with numpy and passing `int` as the `dtype`. Many tools such as FSL and SPM cannot deal with int64 in Nifti images, so for compatibility the data has been converted to int32.\n",
      "\n",
      "/home/arovai/miniconda3/envs/cvrmap_paper/lib/python3.11/site-packages/nilearn/image/image.py:1041: UserWarning:\n",
      "\n",
      "Data array used to create a new image contains 64-bit ints. This is likely due to creating the array with numpy and passing `int` as the `dtype`. Many tools such as FSL and SPM cannot deal with int64 in Nifti images, so for compatibility the data has been converted to int32.\n",
      "\n",
      "/home/arovai/miniconda3/envs/cvrmap_paper/lib/python3.11/site-packages/nilearn/image/image.py:1041: UserWarning:\n",
      "\n",
      "Data array used to create a new image contains 64-bit ints. This is likely due to creating the array with numpy and passing `int` as the `dtype`. Many tools such as FSL and SPM cannot deal with int64 in Nifti images, so for compatibility the data has been converted to int32.\n",
      "\n",
      "/home/arovai/miniconda3/envs/cvrmap_paper/lib/python3.11/site-packages/nilearn/image/image.py:1041: UserWarning:\n",
      "\n",
      "Data array used to create a new image contains 64-bit ints. This is likely due to creating the array with numpy and passing `int` as the `dtype`. Many tools such as FSL and SPM cannot deal with int64 in Nifti images, so for compatibility the data has been converted to int32.\n",
      "\n",
      "/home/arovai/miniconda3/envs/cvrmap_paper/lib/python3.11/site-packages/nilearn/image/image.py:1041: UserWarning:\n",
      "\n",
      "Data array used to create a new image contains 64-bit ints. This is likely due to creating the array with numpy and passing `int` as the `dtype`. Many tools such as FSL and SPM cannot deal with int64 in Nifti images, so for compatibility the data has been converted to int32.\n",
      "\n",
      "/home/arovai/miniconda3/envs/cvrmap_paper/lib/python3.11/site-packages/nilearn/image/image.py:1041: UserWarning:\n",
      "\n",
      "Data array used to create a new image contains 64-bit ints. This is likely due to creating the array with numpy and passing `int` as the `dtype`. Many tools such as FSL and SPM cannot deal with int64 in Nifti images, so for compatibility the data has been converted to int32.\n",
      "\n",
      "/home/arovai/miniconda3/envs/cvrmap_paper/lib/python3.11/site-packages/nilearn/image/image.py:1041: UserWarning:\n",
      "\n",
      "Data array used to create a new image contains 64-bit ints. This is likely due to creating the array with numpy and passing `int` as the `dtype`. Many tools such as FSL and SPM cannot deal with int64 in Nifti images, so for compatibility the data has been converted to int32.\n",
      "\n",
      "/home/arovai/miniconda3/envs/cvrmap_paper/lib/python3.11/site-packages/nilearn/image/image.py:1041: UserWarning:\n",
      "\n",
      "Data array used to create a new image contains 64-bit ints. This is likely due to creating the array with numpy and passing `int` as the `dtype`. Many tools such as FSL and SPM cannot deal with int64 in Nifti images, so for compatibility the data has been converted to int32.\n",
      "\n",
      "/home/arovai/miniconda3/envs/cvrmap_paper/lib/python3.11/site-packages/nilearn/image/image.py:1041: UserWarning:\n",
      "\n",
      "Data array used to create a new image contains 64-bit ints. This is likely due to creating the array with numpy and passing `int` as the `dtype`. Many tools such as FSL and SPM cannot deal with int64 in Nifti images, so for compatibility the data has been converted to int32.\n",
      "\n",
      "/home/arovai/miniconda3/envs/cvrmap_paper/lib/python3.11/site-packages/nilearn/image/image.py:1041: UserWarning:\n",
      "\n",
      "Data array used to create a new image contains 64-bit ints. This is likely due to creating the array with numpy and passing `int` as the `dtype`. Many tools such as FSL and SPM cannot deal with int64 in Nifti images, so for compatibility the data has been converted to int32.\n",
      "\n",
      "/home/arovai/miniconda3/envs/cvrmap_paper/lib/python3.11/site-packages/nilearn/image/image.py:1041: UserWarning:\n",
      "\n",
      "Data array used to create a new image contains 64-bit ints. This is likely due to creating the array with numpy and passing `int` as the `dtype`. Many tools such as FSL and SPM cannot deal with int64 in Nifti images, so for compatibility the data has been converted to int32.\n",
      "\n",
      "/home/arovai/miniconda3/envs/cvrmap_paper/lib/python3.11/site-packages/nilearn/image/image.py:1041: UserWarning:\n",
      "\n",
      "Data array used to create a new image contains 64-bit ints. This is likely due to creating the array with numpy and passing `int` as the `dtype`. Many tools such as FSL and SPM cannot deal with int64 in Nifti images, so for compatibility the data has been converted to int32.\n",
      "\n",
      "/home/arovai/miniconda3/envs/cvrmap_paper/lib/python3.11/site-packages/nilearn/image/image.py:1041: UserWarning:\n",
      "\n",
      "Data array used to create a new image contains 64-bit ints. This is likely due to creating the array with numpy and passing `int` as the `dtype`. Many tools such as FSL and SPM cannot deal with int64 in Nifti images, so for compatibility the data has been converted to int32.\n",
      "\n",
      "/home/arovai/miniconda3/envs/cvrmap_paper/lib/python3.11/site-packages/nilearn/image/image.py:1041: UserWarning:\n",
      "\n",
      "Data array used to create a new image contains 64-bit ints. This is likely due to creating the array with numpy and passing `int` as the `dtype`. Many tools such as FSL and SPM cannot deal with int64 in Nifti images, so for compatibility the data has been converted to int32.\n",
      "\n",
      "/home/arovai/miniconda3/envs/cvrmap_paper/lib/python3.11/site-packages/nilearn/image/image.py:1041: UserWarning:\n",
      "\n",
      "Data array used to create a new image contains 64-bit ints. This is likely due to creating the array with numpy and passing `int` as the `dtype`. Many tools such as FSL and SPM cannot deal with int64 in Nifti images, so for compatibility the data has been converted to int32.\n",
      "\n"
     ]
    },
    {
     "name": "stderr",
     "output_type": "stream",
     "text": [
      "/home/arovai/miniconda3/envs/cvrmap_paper/lib/python3.11/site-packages/nilearn/image/image.py:1041: UserWarning:\n",
      "\n",
      "Data array used to create a new image contains 64-bit ints. This is likely due to creating the array with numpy and passing `int` as the `dtype`. Many tools such as FSL and SPM cannot deal with int64 in Nifti images, so for compatibility the data has been converted to int32.\n",
      "\n",
      "/home/arovai/miniconda3/envs/cvrmap_paper/lib/python3.11/site-packages/nilearn/image/image.py:1041: UserWarning:\n",
      "\n",
      "Data array used to create a new image contains 64-bit ints. This is likely due to creating the array with numpy and passing `int` as the `dtype`. Many tools such as FSL and SPM cannot deal with int64 in Nifti images, so for compatibility the data has been converted to int32.\n",
      "\n",
      "/home/arovai/miniconda3/envs/cvrmap_paper/lib/python3.11/site-packages/nilearn/image/image.py:1041: UserWarning:\n",
      "\n",
      "Data array used to create a new image contains 64-bit ints. This is likely due to creating the array with numpy and passing `int` as the `dtype`. Many tools such as FSL and SPM cannot deal with int64 in Nifti images, so for compatibility the data has been converted to int32.\n",
      "\n",
      "/home/arovai/miniconda3/envs/cvrmap_paper/lib/python3.11/site-packages/nilearn/image/image.py:1041: UserWarning:\n",
      "\n",
      "Data array used to create a new image contains 64-bit ints. This is likely due to creating the array with numpy and passing `int` as the `dtype`. Many tools such as FSL and SPM cannot deal with int64 in Nifti images, so for compatibility the data has been converted to int32.\n",
      "\n",
      "/home/arovai/miniconda3/envs/cvrmap_paper/lib/python3.11/site-packages/nilearn/image/image.py:1041: UserWarning:\n",
      "\n",
      "Data array used to create a new image contains 64-bit ints. This is likely due to creating the array with numpy and passing `int` as the `dtype`. Many tools such as FSL and SPM cannot deal with int64 in Nifti images, so for compatibility the data has been converted to int32.\n",
      "\n",
      "/home/arovai/miniconda3/envs/cvrmap_paper/lib/python3.11/site-packages/nilearn/image/image.py:1041: UserWarning:\n",
      "\n",
      "Data array used to create a new image contains 64-bit ints. This is likely due to creating the array with numpy and passing `int` as the `dtype`. Many tools such as FSL and SPM cannot deal with int64 in Nifti images, so for compatibility the data has been converted to int32.\n",
      "\n",
      "/home/arovai/miniconda3/envs/cvrmap_paper/lib/python3.11/site-packages/nilearn/image/image.py:1041: UserWarning:\n",
      "\n",
      "Data array used to create a new image contains 64-bit ints. This is likely due to creating the array with numpy and passing `int` as the `dtype`. Many tools such as FSL and SPM cannot deal with int64 in Nifti images, so for compatibility the data has been converted to int32.\n",
      "\n",
      "/home/arovai/miniconda3/envs/cvrmap_paper/lib/python3.11/site-packages/nilearn/image/image.py:1041: UserWarning:\n",
      "\n",
      "Data array used to create a new image contains 64-bit ints. This is likely due to creating the array with numpy and passing `int` as the `dtype`. Many tools such as FSL and SPM cannot deal with int64 in Nifti images, so for compatibility the data has been converted to int32.\n",
      "\n",
      "/home/arovai/miniconda3/envs/cvrmap_paper/lib/python3.11/site-packages/nilearn/image/image.py:1041: UserWarning:\n",
      "\n",
      "Data array used to create a new image contains 64-bit ints. This is likely due to creating the array with numpy and passing `int` as the `dtype`. Many tools such as FSL and SPM cannot deal with int64 in Nifti images, so for compatibility the data has been converted to int32.\n",
      "\n",
      "/home/arovai/miniconda3/envs/cvrmap_paper/lib/python3.11/site-packages/nilearn/image/image.py:1041: UserWarning:\n",
      "\n",
      "Data array used to create a new image contains 64-bit ints. This is likely due to creating the array with numpy and passing `int` as the `dtype`. Many tools such as FSL and SPM cannot deal with int64 in Nifti images, so for compatibility the data has been converted to int32.\n",
      "\n",
      "/home/arovai/miniconda3/envs/cvrmap_paper/lib/python3.11/site-packages/nilearn/image/image.py:1041: UserWarning:\n",
      "\n",
      "Data array used to create a new image contains 64-bit ints. This is likely due to creating the array with numpy and passing `int` as the `dtype`. Many tools such as FSL and SPM cannot deal with int64 in Nifti images, so for compatibility the data has been converted to int32.\n",
      "\n",
      "/home/arovai/miniconda3/envs/cvrmap_paper/lib/python3.11/site-packages/nilearn/image/image.py:1041: UserWarning:\n",
      "\n",
      "Data array used to create a new image contains 64-bit ints. This is likely due to creating the array with numpy and passing `int` as the `dtype`. Many tools such as FSL and SPM cannot deal with int64 in Nifti images, so for compatibility the data has been converted to int32.\n",
      "\n",
      "/home/arovai/miniconda3/envs/cvrmap_paper/lib/python3.11/site-packages/nilearn/image/image.py:1041: UserWarning:\n",
      "\n",
      "Data array used to create a new image contains 64-bit ints. This is likely due to creating the array with numpy and passing `int` as the `dtype`. Many tools such as FSL and SPM cannot deal with int64 in Nifti images, so for compatibility the data has been converted to int32.\n",
      "\n",
      "/home/arovai/miniconda3/envs/cvrmap_paper/lib/python3.11/site-packages/nilearn/image/image.py:1041: UserWarning:\n",
      "\n",
      "Data array used to create a new image contains 64-bit ints. This is likely due to creating the array with numpy and passing `int` as the `dtype`. Many tools such as FSL and SPM cannot deal with int64 in Nifti images, so for compatibility the data has been converted to int32.\n",
      "\n",
      "/home/arovai/miniconda3/envs/cvrmap_paper/lib/python3.11/site-packages/nilearn/image/image.py:1041: UserWarning:\n",
      "\n",
      "Data array used to create a new image contains 64-bit ints. This is likely due to creating the array with numpy and passing `int` as the `dtype`. Many tools such as FSL and SPM cannot deal with int64 in Nifti images, so for compatibility the data has been converted to int32.\n",
      "\n",
      "/home/arovai/miniconda3/envs/cvrmap_paper/lib/python3.11/site-packages/nilearn/image/image.py:1041: UserWarning:\n",
      "\n",
      "Data array used to create a new image contains 64-bit ints. This is likely due to creating the array with numpy and passing `int` as the `dtype`. Many tools such as FSL and SPM cannot deal with int64 in Nifti images, so for compatibility the data has been converted to int32.\n",
      "\n",
      "/home/arovai/miniconda3/envs/cvrmap_paper/lib/python3.11/site-packages/nilearn/image/image.py:1041: UserWarning:\n",
      "\n",
      "Data array used to create a new image contains 64-bit ints. This is likely due to creating the array with numpy and passing `int` as the `dtype`. Many tools such as FSL and SPM cannot deal with int64 in Nifti images, so for compatibility the data has been converted to int32.\n",
      "\n",
      "/home/arovai/miniconda3/envs/cvrmap_paper/lib/python3.11/site-packages/nilearn/image/image.py:1041: UserWarning:\n",
      "\n",
      "Data array used to create a new image contains 64-bit ints. This is likely due to creating the array with numpy and passing `int` as the `dtype`. Many tools such as FSL and SPM cannot deal with int64 in Nifti images, so for compatibility the data has been converted to int32.\n",
      "\n",
      "/home/arovai/miniconda3/envs/cvrmap_paper/lib/python3.11/site-packages/nilearn/image/image.py:1041: UserWarning:\n",
      "\n",
      "Data array used to create a new image contains 64-bit ints. This is likely due to creating the array with numpy and passing `int` as the `dtype`. Many tools such as FSL and SPM cannot deal with int64 in Nifti images, so for compatibility the data has been converted to int32.\n",
      "\n",
      "/home/arovai/miniconda3/envs/cvrmap_paper/lib/python3.11/site-packages/nilearn/image/image.py:1041: UserWarning:\n",
      "\n",
      "Data array used to create a new image contains 64-bit ints. This is likely due to creating the array with numpy and passing `int` as the `dtype`. Many tools such as FSL and SPM cannot deal with int64 in Nifti images, so for compatibility the data has been converted to int32.\n",
      "\n",
      "/home/arovai/miniconda3/envs/cvrmap_paper/lib/python3.11/site-packages/nilearn/image/image.py:1041: UserWarning:\n",
      "\n",
      "Data array used to create a new image contains 64-bit ints. This is likely due to creating the array with numpy and passing `int` as the `dtype`. Many tools such as FSL and SPM cannot deal with int64 in Nifti images, so for compatibility the data has been converted to int32.\n",
      "\n"
     ]
    },
    {
     "name": "stderr",
     "output_type": "stream",
     "text": [
      "/home/arovai/miniconda3/envs/cvrmap_paper/lib/python3.11/site-packages/nilearn/image/image.py:1041: UserWarning:\n",
      "\n",
      "Data array used to create a new image contains 64-bit ints. This is likely due to creating the array with numpy and passing `int` as the `dtype`. Many tools such as FSL and SPM cannot deal with int64 in Nifti images, so for compatibility the data has been converted to int32.\n",
      "\n",
      "/home/arovai/miniconda3/envs/cvrmap_paper/lib/python3.11/site-packages/nilearn/image/image.py:1041: UserWarning:\n",
      "\n",
      "Data array used to create a new image contains 64-bit ints. This is likely due to creating the array with numpy and passing `int` as the `dtype`. Many tools such as FSL and SPM cannot deal with int64 in Nifti images, so for compatibility the data has been converted to int32.\n",
      "\n",
      "/home/arovai/miniconda3/envs/cvrmap_paper/lib/python3.11/site-packages/nilearn/image/image.py:1041: UserWarning:\n",
      "\n",
      "Data array used to create a new image contains 64-bit ints. This is likely due to creating the array with numpy and passing `int` as the `dtype`. Many tools such as FSL and SPM cannot deal with int64 in Nifti images, so for compatibility the data has been converted to int32.\n",
      "\n",
      "/home/arovai/miniconda3/envs/cvrmap_paper/lib/python3.11/site-packages/nilearn/image/image.py:1041: UserWarning:\n",
      "\n",
      "Data array used to create a new image contains 64-bit ints. This is likely due to creating the array with numpy and passing `int` as the `dtype`. Many tools such as FSL and SPM cannot deal with int64 in Nifti images, so for compatibility the data has been converted to int32.\n",
      "\n",
      "/home/arovai/miniconda3/envs/cvrmap_paper/lib/python3.11/site-packages/nilearn/image/image.py:1041: UserWarning:\n",
      "\n",
      "Data array used to create a new image contains 64-bit ints. This is likely due to creating the array with numpy and passing `int` as the `dtype`. Many tools such as FSL and SPM cannot deal with int64 in Nifti images, so for compatibility the data has been converted to int32.\n",
      "\n",
      "/home/arovai/miniconda3/envs/cvrmap_paper/lib/python3.11/site-packages/nilearn/image/image.py:1041: UserWarning:\n",
      "\n",
      "Data array used to create a new image contains 64-bit ints. This is likely due to creating the array with numpy and passing `int` as the `dtype`. Many tools such as FSL and SPM cannot deal with int64 in Nifti images, so for compatibility the data has been converted to int32.\n",
      "\n",
      "/home/arovai/miniconda3/envs/cvrmap_paper/lib/python3.11/site-packages/nilearn/image/image.py:1041: UserWarning:\n",
      "\n",
      "Data array used to create a new image contains 64-bit ints. This is likely due to creating the array with numpy and passing `int` as the `dtype`. Many tools such as FSL and SPM cannot deal with int64 in Nifti images, so for compatibility the data has been converted to int32.\n",
      "\n",
      "/home/arovai/miniconda3/envs/cvrmap_paper/lib/python3.11/site-packages/nilearn/image/image.py:1041: UserWarning:\n",
      "\n",
      "Data array used to create a new image contains 64-bit ints. This is likely due to creating the array with numpy and passing `int` as the `dtype`. Many tools such as FSL and SPM cannot deal with int64 in Nifti images, so for compatibility the data has been converted to int32.\n",
      "\n",
      "/home/arovai/miniconda3/envs/cvrmap_paper/lib/python3.11/site-packages/nilearn/image/image.py:1041: UserWarning:\n",
      "\n",
      "Data array used to create a new image contains 64-bit ints. This is likely due to creating the array with numpy and passing `int` as the `dtype`. Many tools such as FSL and SPM cannot deal with int64 in Nifti images, so for compatibility the data has been converted to int32.\n",
      "\n",
      "/home/arovai/miniconda3/envs/cvrmap_paper/lib/python3.11/site-packages/nilearn/image/image.py:1041: UserWarning:\n",
      "\n",
      "Data array used to create a new image contains 64-bit ints. This is likely due to creating the array with numpy and passing `int` as the `dtype`. Many tools such as FSL and SPM cannot deal with int64 in Nifti images, so for compatibility the data has been converted to int32.\n",
      "\n",
      "/home/arovai/miniconda3/envs/cvrmap_paper/lib/python3.11/site-packages/nilearn/image/image.py:1041: UserWarning:\n",
      "\n",
      "Data array used to create a new image contains 64-bit ints. This is likely due to creating the array with numpy and passing `int` as the `dtype`. Many tools such as FSL and SPM cannot deal with int64 in Nifti images, so for compatibility the data has been converted to int32.\n",
      "\n",
      "/home/arovai/miniconda3/envs/cvrmap_paper/lib/python3.11/site-packages/nilearn/image/image.py:1041: UserWarning:\n",
      "\n",
      "Data array used to create a new image contains 64-bit ints. This is likely due to creating the array with numpy and passing `int` as the `dtype`. Many tools such as FSL and SPM cannot deal with int64 in Nifti images, so for compatibility the data has been converted to int32.\n",
      "\n",
      "/home/arovai/miniconda3/envs/cvrmap_paper/lib/python3.11/site-packages/nilearn/image/image.py:1041: UserWarning:\n",
      "\n",
      "Data array used to create a new image contains 64-bit ints. This is likely due to creating the array with numpy and passing `int` as the `dtype`. Many tools such as FSL and SPM cannot deal with int64 in Nifti images, so for compatibility the data has been converted to int32.\n",
      "\n",
      "/home/arovai/miniconda3/envs/cvrmap_paper/lib/python3.11/site-packages/nilearn/image/image.py:1041: UserWarning:\n",
      "\n",
      "Data array used to create a new image contains 64-bit ints. This is likely due to creating the array with numpy and passing `int` as the `dtype`. Many tools such as FSL and SPM cannot deal with int64 in Nifti images, so for compatibility the data has been converted to int32.\n",
      "\n",
      "/home/arovai/miniconda3/envs/cvrmap_paper/lib/python3.11/site-packages/nilearn/image/image.py:1041: UserWarning:\n",
      "\n",
      "Data array used to create a new image contains 64-bit ints. This is likely due to creating the array with numpy and passing `int` as the `dtype`. Many tools such as FSL and SPM cannot deal with int64 in Nifti images, so for compatibility the data has been converted to int32.\n",
      "\n",
      "/home/arovai/miniconda3/envs/cvrmap_paper/lib/python3.11/site-packages/nilearn/image/image.py:1041: UserWarning:\n",
      "\n",
      "Data array used to create a new image contains 64-bit ints. This is likely due to creating the array with numpy and passing `int` as the `dtype`. Many tools such as FSL and SPM cannot deal with int64 in Nifti images, so for compatibility the data has been converted to int32.\n",
      "\n",
      "/home/arovai/miniconda3/envs/cvrmap_paper/lib/python3.11/site-packages/nilearn/image/image.py:1041: UserWarning:\n",
      "\n",
      "Data array used to create a new image contains 64-bit ints. This is likely due to creating the array with numpy and passing `int` as the `dtype`. Many tools such as FSL and SPM cannot deal with int64 in Nifti images, so for compatibility the data has been converted to int32.\n",
      "\n",
      "/home/arovai/miniconda3/envs/cvrmap_paper/lib/python3.11/site-packages/nilearn/image/image.py:1041: UserWarning:\n",
      "\n",
      "Data array used to create a new image contains 64-bit ints. This is likely due to creating the array with numpy and passing `int` as the `dtype`. Many tools such as FSL and SPM cannot deal with int64 in Nifti images, so for compatibility the data has been converted to int32.\n",
      "\n",
      "/home/arovai/miniconda3/envs/cvrmap_paper/lib/python3.11/site-packages/nilearn/image/image.py:1041: UserWarning:\n",
      "\n",
      "Data array used to create a new image contains 64-bit ints. This is likely due to creating the array with numpy and passing `int` as the `dtype`. Many tools such as FSL and SPM cannot deal with int64 in Nifti images, so for compatibility the data has been converted to int32.\n",
      "\n",
      "/home/arovai/miniconda3/envs/cvrmap_paper/lib/python3.11/site-packages/nilearn/image/image.py:1041: UserWarning:\n",
      "\n",
      "Data array used to create a new image contains 64-bit ints. This is likely due to creating the array with numpy and passing `int` as the `dtype`. Many tools such as FSL and SPM cannot deal with int64 in Nifti images, so for compatibility the data has been converted to int32.\n",
      "\n",
      "/home/arovai/miniconda3/envs/cvrmap_paper/lib/python3.11/site-packages/nilearn/image/image.py:1041: UserWarning:\n",
      "\n",
      "Data array used to create a new image contains 64-bit ints. This is likely due to creating the array with numpy and passing `int` as the `dtype`. Many tools such as FSL and SPM cannot deal with int64 in Nifti images, so for compatibility the data has been converted to int32.\n",
      "\n"
     ]
    },
    {
     "name": "stderr",
     "output_type": "stream",
     "text": [
      "/home/arovai/miniconda3/envs/cvrmap_paper/lib/python3.11/site-packages/nilearn/image/image.py:1041: UserWarning:\n",
      "\n",
      "Data array used to create a new image contains 64-bit ints. This is likely due to creating the array with numpy and passing `int` as the `dtype`. Many tools such as FSL and SPM cannot deal with int64 in Nifti images, so for compatibility the data has been converted to int32.\n",
      "\n",
      "/home/arovai/miniconda3/envs/cvrmap_paper/lib/python3.11/site-packages/nilearn/image/image.py:1041: UserWarning:\n",
      "\n",
      "Data array used to create a new image contains 64-bit ints. This is likely due to creating the array with numpy and passing `int` as the `dtype`. Many tools such as FSL and SPM cannot deal with int64 in Nifti images, so for compatibility the data has been converted to int32.\n",
      "\n",
      "/home/arovai/miniconda3/envs/cvrmap_paper/lib/python3.11/site-packages/nilearn/image/image.py:1041: UserWarning:\n",
      "\n",
      "Data array used to create a new image contains 64-bit ints. This is likely due to creating the array with numpy and passing `int` as the `dtype`. Many tools such as FSL and SPM cannot deal with int64 in Nifti images, so for compatibility the data has been converted to int32.\n",
      "\n",
      "/home/arovai/miniconda3/envs/cvrmap_paper/lib/python3.11/site-packages/nilearn/image/image.py:1041: UserWarning:\n",
      "\n",
      "Data array used to create a new image contains 64-bit ints. This is likely due to creating the array with numpy and passing `int` as the `dtype`. Many tools such as FSL and SPM cannot deal with int64 in Nifti images, so for compatibility the data has been converted to int32.\n",
      "\n",
      "/home/arovai/miniconda3/envs/cvrmap_paper/lib/python3.11/site-packages/nilearn/image/image.py:1041: UserWarning:\n",
      "\n",
      "Data array used to create a new image contains 64-bit ints. This is likely due to creating the array with numpy and passing `int` as the `dtype`. Many tools such as FSL and SPM cannot deal with int64 in Nifti images, so for compatibility the data has been converted to int32.\n",
      "\n",
      "/home/arovai/miniconda3/envs/cvrmap_paper/lib/python3.11/site-packages/nilearn/image/image.py:1041: UserWarning:\n",
      "\n",
      "Data array used to create a new image contains 64-bit ints. This is likely due to creating the array with numpy and passing `int` as the `dtype`. Many tools such as FSL and SPM cannot deal with int64 in Nifti images, so for compatibility the data has been converted to int32.\n",
      "\n",
      "/home/arovai/miniconda3/envs/cvrmap_paper/lib/python3.11/site-packages/nilearn/image/image.py:1041: UserWarning:\n",
      "\n",
      "Data array used to create a new image contains 64-bit ints. This is likely due to creating the array with numpy and passing `int` as the `dtype`. Many tools such as FSL and SPM cannot deal with int64 in Nifti images, so for compatibility the data has been converted to int32.\n",
      "\n",
      "/home/arovai/miniconda3/envs/cvrmap_paper/lib/python3.11/site-packages/nilearn/image/image.py:1041: UserWarning:\n",
      "\n",
      "Data array used to create a new image contains 64-bit ints. This is likely due to creating the array with numpy and passing `int` as the `dtype`. Many tools such as FSL and SPM cannot deal with int64 in Nifti images, so for compatibility the data has been converted to int32.\n",
      "\n",
      "/home/arovai/miniconda3/envs/cvrmap_paper/lib/python3.11/site-packages/nilearn/image/image.py:1041: UserWarning:\n",
      "\n",
      "Data array used to create a new image contains 64-bit ints. This is likely due to creating the array with numpy and passing `int` as the `dtype`. Many tools such as FSL and SPM cannot deal with int64 in Nifti images, so for compatibility the data has been converted to int32.\n",
      "\n",
      "/home/arovai/miniconda3/envs/cvrmap_paper/lib/python3.11/site-packages/nilearn/image/image.py:1041: UserWarning:\n",
      "\n",
      "Data array used to create a new image contains 64-bit ints. This is likely due to creating the array with numpy and passing `int` as the `dtype`. Many tools such as FSL and SPM cannot deal with int64 in Nifti images, so for compatibility the data has been converted to int32.\n",
      "\n",
      "/home/arovai/miniconda3/envs/cvrmap_paper/lib/python3.11/site-packages/nilearn/image/image.py:1041: UserWarning:\n",
      "\n",
      "Data array used to create a new image contains 64-bit ints. This is likely due to creating the array with numpy and passing `int` as the `dtype`. Many tools such as FSL and SPM cannot deal with int64 in Nifti images, so for compatibility the data has been converted to int32.\n",
      "\n",
      "/home/arovai/miniconda3/envs/cvrmap_paper/lib/python3.11/site-packages/nilearn/image/image.py:1041: UserWarning:\n",
      "\n",
      "Data array used to create a new image contains 64-bit ints. This is likely due to creating the array with numpy and passing `int` as the `dtype`. Many tools such as FSL and SPM cannot deal with int64 in Nifti images, so for compatibility the data has been converted to int32.\n",
      "\n",
      "/home/arovai/miniconda3/envs/cvrmap_paper/lib/python3.11/site-packages/nilearn/image/image.py:1041: UserWarning:\n",
      "\n",
      "Data array used to create a new image contains 64-bit ints. This is likely due to creating the array with numpy and passing `int` as the `dtype`. Many tools such as FSL and SPM cannot deal with int64 in Nifti images, so for compatibility the data has been converted to int32.\n",
      "\n",
      "/home/arovai/miniconda3/envs/cvrmap_paper/lib/python3.11/site-packages/nilearn/image/image.py:1041: UserWarning:\n",
      "\n",
      "Data array used to create a new image contains 64-bit ints. This is likely due to creating the array with numpy and passing `int` as the `dtype`. Many tools such as FSL and SPM cannot deal with int64 in Nifti images, so for compatibility the data has been converted to int32.\n",
      "\n",
      "/home/arovai/miniconda3/envs/cvrmap_paper/lib/python3.11/site-packages/nilearn/image/image.py:1041: UserWarning:\n",
      "\n",
      "Data array used to create a new image contains 64-bit ints. This is likely due to creating the array with numpy and passing `int` as the `dtype`. Many tools such as FSL and SPM cannot deal with int64 in Nifti images, so for compatibility the data has been converted to int32.\n",
      "\n",
      "/home/arovai/miniconda3/envs/cvrmap_paper/lib/python3.11/site-packages/nilearn/image/image.py:1041: UserWarning:\n",
      "\n",
      "Data array used to create a new image contains 64-bit ints. This is likely due to creating the array with numpy and passing `int` as the `dtype`. Many tools such as FSL and SPM cannot deal with int64 in Nifti images, so for compatibility the data has been converted to int32.\n",
      "\n",
      "/home/arovai/miniconda3/envs/cvrmap_paper/lib/python3.11/site-packages/nilearn/image/image.py:1041: UserWarning:\n",
      "\n",
      "Data array used to create a new image contains 64-bit ints. This is likely due to creating the array with numpy and passing `int` as the `dtype`. Many tools such as FSL and SPM cannot deal with int64 in Nifti images, so for compatibility the data has been converted to int32.\n",
      "\n",
      "/home/arovai/miniconda3/envs/cvrmap_paper/lib/python3.11/site-packages/nilearn/image/image.py:1041: UserWarning:\n",
      "\n",
      "Data array used to create a new image contains 64-bit ints. This is likely due to creating the array with numpy and passing `int` as the `dtype`. Many tools such as FSL and SPM cannot deal with int64 in Nifti images, so for compatibility the data has been converted to int32.\n",
      "\n",
      "/home/arovai/miniconda3/envs/cvrmap_paper/lib/python3.11/site-packages/nilearn/image/image.py:1041: UserWarning:\n",
      "\n",
      "Data array used to create a new image contains 64-bit ints. This is likely due to creating the array with numpy and passing `int` as the `dtype`. Many tools such as FSL and SPM cannot deal with int64 in Nifti images, so for compatibility the data has been converted to int32.\n",
      "\n",
      "/home/arovai/miniconda3/envs/cvrmap_paper/lib/python3.11/site-packages/nilearn/image/image.py:1041: UserWarning:\n",
      "\n",
      "Data array used to create a new image contains 64-bit ints. This is likely due to creating the array with numpy and passing `int` as the `dtype`. Many tools such as FSL and SPM cannot deal with int64 in Nifti images, so for compatibility the data has been converted to int32.\n",
      "\n",
      "/home/arovai/miniconda3/envs/cvrmap_paper/lib/python3.11/site-packages/nilearn/image/image.py:1041: UserWarning:\n",
      "\n",
      "Data array used to create a new image contains 64-bit ints. This is likely due to creating the array with numpy and passing `int` as the `dtype`. Many tools such as FSL and SPM cannot deal with int64 in Nifti images, so for compatibility the data has been converted to int32.\n",
      "\n"
     ]
    },
    {
     "name": "stderr",
     "output_type": "stream",
     "text": [
      "/home/arovai/miniconda3/envs/cvrmap_paper/lib/python3.11/site-packages/nilearn/image/image.py:1041: UserWarning:\n",
      "\n",
      "Data array used to create a new image contains 64-bit ints. This is likely due to creating the array with numpy and passing `int` as the `dtype`. Many tools such as FSL and SPM cannot deal with int64 in Nifti images, so for compatibility the data has been converted to int32.\n",
      "\n",
      "/home/arovai/miniconda3/envs/cvrmap_paper/lib/python3.11/site-packages/nilearn/image/image.py:1041: UserWarning:\n",
      "\n",
      "Data array used to create a new image contains 64-bit ints. This is likely due to creating the array with numpy and passing `int` as the `dtype`. Many tools such as FSL and SPM cannot deal with int64 in Nifti images, so for compatibility the data has been converted to int32.\n",
      "\n",
      "/home/arovai/miniconda3/envs/cvrmap_paper/lib/python3.11/site-packages/nilearn/image/image.py:1041: UserWarning:\n",
      "\n",
      "Data array used to create a new image contains 64-bit ints. This is likely due to creating the array with numpy and passing `int` as the `dtype`. Many tools such as FSL and SPM cannot deal with int64 in Nifti images, so for compatibility the data has been converted to int32.\n",
      "\n",
      "/home/arovai/miniconda3/envs/cvrmap_paper/lib/python3.11/site-packages/nilearn/image/image.py:1041: UserWarning:\n",
      "\n",
      "Data array used to create a new image contains 64-bit ints. This is likely due to creating the array with numpy and passing `int` as the `dtype`. Many tools such as FSL and SPM cannot deal with int64 in Nifti images, so for compatibility the data has been converted to int32.\n",
      "\n",
      "/home/arovai/miniconda3/envs/cvrmap_paper/lib/python3.11/site-packages/nilearn/image/image.py:1041: UserWarning:\n",
      "\n",
      "Data array used to create a new image contains 64-bit ints. This is likely due to creating the array with numpy and passing `int` as the `dtype`. Many tools such as FSL and SPM cannot deal with int64 in Nifti images, so for compatibility the data has been converted to int32.\n",
      "\n",
      "/home/arovai/miniconda3/envs/cvrmap_paper/lib/python3.11/site-packages/nilearn/image/image.py:1041: UserWarning:\n",
      "\n",
      "Data array used to create a new image contains 64-bit ints. This is likely due to creating the array with numpy and passing `int` as the `dtype`. Many tools such as FSL and SPM cannot deal with int64 in Nifti images, so for compatibility the data has been converted to int32.\n",
      "\n",
      "/home/arovai/miniconda3/envs/cvrmap_paper/lib/python3.11/site-packages/nilearn/image/image.py:1041: UserWarning:\n",
      "\n",
      "Data array used to create a new image contains 64-bit ints. This is likely due to creating the array with numpy and passing `int` as the `dtype`. Many tools such as FSL and SPM cannot deal with int64 in Nifti images, so for compatibility the data has been converted to int32.\n",
      "\n",
      "/home/arovai/miniconda3/envs/cvrmap_paper/lib/python3.11/site-packages/nilearn/image/image.py:1041: UserWarning:\n",
      "\n",
      "Data array used to create a new image contains 64-bit ints. This is likely due to creating the array with numpy and passing `int` as the `dtype`. Many tools such as FSL and SPM cannot deal with int64 in Nifti images, so for compatibility the data has been converted to int32.\n",
      "\n",
      "/home/arovai/miniconda3/envs/cvrmap_paper/lib/python3.11/site-packages/nilearn/image/image.py:1041: UserWarning:\n",
      "\n",
      "Data array used to create a new image contains 64-bit ints. This is likely due to creating the array with numpy and passing `int` as the `dtype`. Many tools such as FSL and SPM cannot deal with int64 in Nifti images, so for compatibility the data has been converted to int32.\n",
      "\n",
      "/home/arovai/miniconda3/envs/cvrmap_paper/lib/python3.11/site-packages/nilearn/image/image.py:1041: UserWarning:\n",
      "\n",
      "Data array used to create a new image contains 64-bit ints. This is likely due to creating the array with numpy and passing `int` as the `dtype`. Many tools such as FSL and SPM cannot deal with int64 in Nifti images, so for compatibility the data has been converted to int32.\n",
      "\n",
      "/home/arovai/miniconda3/envs/cvrmap_paper/lib/python3.11/site-packages/nilearn/image/image.py:1041: UserWarning:\n",
      "\n",
      "Data array used to create a new image contains 64-bit ints. This is likely due to creating the array with numpy and passing `int` as the `dtype`. Many tools such as FSL and SPM cannot deal with int64 in Nifti images, so for compatibility the data has been converted to int32.\n",
      "\n",
      "/home/arovai/miniconda3/envs/cvrmap_paper/lib/python3.11/site-packages/nilearn/image/image.py:1041: UserWarning:\n",
      "\n",
      "Data array used to create a new image contains 64-bit ints. This is likely due to creating the array with numpy and passing `int` as the `dtype`. Many tools such as FSL and SPM cannot deal with int64 in Nifti images, so for compatibility the data has been converted to int32.\n",
      "\n",
      "/home/arovai/miniconda3/envs/cvrmap_paper/lib/python3.11/site-packages/nilearn/image/image.py:1041: UserWarning:\n",
      "\n",
      "Data array used to create a new image contains 64-bit ints. This is likely due to creating the array with numpy and passing `int` as the `dtype`. Many tools such as FSL and SPM cannot deal with int64 in Nifti images, so for compatibility the data has been converted to int32.\n",
      "\n",
      "/home/arovai/miniconda3/envs/cvrmap_paper/lib/python3.11/site-packages/nilearn/image/image.py:1041: UserWarning:\n",
      "\n",
      "Data array used to create a new image contains 64-bit ints. This is likely due to creating the array with numpy and passing `int` as the `dtype`. Many tools such as FSL and SPM cannot deal with int64 in Nifti images, so for compatibility the data has been converted to int32.\n",
      "\n",
      "/home/arovai/miniconda3/envs/cvrmap_paper/lib/python3.11/site-packages/nilearn/image/image.py:1041: UserWarning:\n",
      "\n",
      "Data array used to create a new image contains 64-bit ints. This is likely due to creating the array with numpy and passing `int` as the `dtype`. Many tools such as FSL and SPM cannot deal with int64 in Nifti images, so for compatibility the data has been converted to int32.\n",
      "\n",
      "/home/arovai/miniconda3/envs/cvrmap_paper/lib/python3.11/site-packages/nilearn/image/image.py:1041: UserWarning:\n",
      "\n",
      "Data array used to create a new image contains 64-bit ints. This is likely due to creating the array with numpy and passing `int` as the `dtype`. Many tools such as FSL and SPM cannot deal with int64 in Nifti images, so for compatibility the data has been converted to int32.\n",
      "\n",
      "/home/arovai/miniconda3/envs/cvrmap_paper/lib/python3.11/site-packages/nilearn/image/image.py:1041: UserWarning:\n",
      "\n",
      "Data array used to create a new image contains 64-bit ints. This is likely due to creating the array with numpy and passing `int` as the `dtype`. Many tools such as FSL and SPM cannot deal with int64 in Nifti images, so for compatibility the data has been converted to int32.\n",
      "\n",
      "/home/arovai/miniconda3/envs/cvrmap_paper/lib/python3.11/site-packages/nilearn/image/image.py:1041: UserWarning:\n",
      "\n",
      "Data array used to create a new image contains 64-bit ints. This is likely due to creating the array with numpy and passing `int` as the `dtype`. Many tools such as FSL and SPM cannot deal with int64 in Nifti images, so for compatibility the data has been converted to int32.\n",
      "\n",
      "/home/arovai/miniconda3/envs/cvrmap_paper/lib/python3.11/site-packages/nilearn/image/image.py:1041: UserWarning:\n",
      "\n",
      "Data array used to create a new image contains 64-bit ints. This is likely due to creating the array with numpy and passing `int` as the `dtype`. Many tools such as FSL and SPM cannot deal with int64 in Nifti images, so for compatibility the data has been converted to int32.\n",
      "\n",
      "/home/arovai/miniconda3/envs/cvrmap_paper/lib/python3.11/site-packages/nilearn/image/image.py:1041: UserWarning:\n",
      "\n",
      "Data array used to create a new image contains 64-bit ints. This is likely due to creating the array with numpy and passing `int` as the `dtype`. Many tools such as FSL and SPM cannot deal with int64 in Nifti images, so for compatibility the data has been converted to int32.\n",
      "\n",
      "/home/arovai/miniconda3/envs/cvrmap_paper/lib/python3.11/site-packages/nilearn/image/image.py:1041: UserWarning:\n",
      "\n",
      "Data array used to create a new image contains 64-bit ints. This is likely due to creating the array with numpy and passing `int` as the `dtype`. Many tools such as FSL and SPM cannot deal with int64 in Nifti images, so for compatibility the data has been converted to int32.\n",
      "\n"
     ]
    },
    {
     "name": "stderr",
     "output_type": "stream",
     "text": [
      "/home/arovai/miniconda3/envs/cvrmap_paper/lib/python3.11/site-packages/nilearn/image/image.py:1041: UserWarning:\n",
      "\n",
      "Data array used to create a new image contains 64-bit ints. This is likely due to creating the array with numpy and passing `int` as the `dtype`. Many tools such as FSL and SPM cannot deal with int64 in Nifti images, so for compatibility the data has been converted to int32.\n",
      "\n",
      "/home/arovai/miniconda3/envs/cvrmap_paper/lib/python3.11/site-packages/nilearn/image/image.py:1041: UserWarning:\n",
      "\n",
      "Data array used to create a new image contains 64-bit ints. This is likely due to creating the array with numpy and passing `int` as the `dtype`. Many tools such as FSL and SPM cannot deal with int64 in Nifti images, so for compatibility the data has been converted to int32.\n",
      "\n",
      "/home/arovai/miniconda3/envs/cvrmap_paper/lib/python3.11/site-packages/nilearn/image/image.py:1041: UserWarning:\n",
      "\n",
      "Data array used to create a new image contains 64-bit ints. This is likely due to creating the array with numpy and passing `int` as the `dtype`. Many tools such as FSL and SPM cannot deal with int64 in Nifti images, so for compatibility the data has been converted to int32.\n",
      "\n",
      "/home/arovai/miniconda3/envs/cvrmap_paper/lib/python3.11/site-packages/nilearn/image/image.py:1041: UserWarning:\n",
      "\n",
      "Data array used to create a new image contains 64-bit ints. This is likely due to creating the array with numpy and passing `int` as the `dtype`. Many tools such as FSL and SPM cannot deal with int64 in Nifti images, so for compatibility the data has been converted to int32.\n",
      "\n",
      "/home/arovai/miniconda3/envs/cvrmap_paper/lib/python3.11/site-packages/nilearn/image/image.py:1041: UserWarning:\n",
      "\n",
      "Data array used to create a new image contains 64-bit ints. This is likely due to creating the array with numpy and passing `int` as the `dtype`. Many tools such as FSL and SPM cannot deal with int64 in Nifti images, so for compatibility the data has been converted to int32.\n",
      "\n",
      "/home/arovai/miniconda3/envs/cvrmap_paper/lib/python3.11/site-packages/nilearn/image/image.py:1041: UserWarning:\n",
      "\n",
      "Data array used to create a new image contains 64-bit ints. This is likely due to creating the array with numpy and passing `int` as the `dtype`. Many tools such as FSL and SPM cannot deal with int64 in Nifti images, so for compatibility the data has been converted to int32.\n",
      "\n",
      "/home/arovai/miniconda3/envs/cvrmap_paper/lib/python3.11/site-packages/nilearn/image/image.py:1041: UserWarning:\n",
      "\n",
      "Data array used to create a new image contains 64-bit ints. This is likely due to creating the array with numpy and passing `int` as the `dtype`. Many tools such as FSL and SPM cannot deal with int64 in Nifti images, so for compatibility the data has been converted to int32.\n",
      "\n",
      "/home/arovai/miniconda3/envs/cvrmap_paper/lib/python3.11/site-packages/nilearn/image/image.py:1041: UserWarning:\n",
      "\n",
      "Data array used to create a new image contains 64-bit ints. This is likely due to creating the array with numpy and passing `int` as the `dtype`. Many tools such as FSL and SPM cannot deal with int64 in Nifti images, so for compatibility the data has been converted to int32.\n",
      "\n",
      "/home/arovai/miniconda3/envs/cvrmap_paper/lib/python3.11/site-packages/nilearn/image/image.py:1041: UserWarning:\n",
      "\n",
      "Data array used to create a new image contains 64-bit ints. This is likely due to creating the array with numpy and passing `int` as the `dtype`. Many tools such as FSL and SPM cannot deal with int64 in Nifti images, so for compatibility the data has been converted to int32.\n",
      "\n",
      "/home/arovai/miniconda3/envs/cvrmap_paper/lib/python3.11/site-packages/nilearn/image/image.py:1041: UserWarning:\n",
      "\n",
      "Data array used to create a new image contains 64-bit ints. This is likely due to creating the array with numpy and passing `int` as the `dtype`. Many tools such as FSL and SPM cannot deal with int64 in Nifti images, so for compatibility the data has been converted to int32.\n",
      "\n",
      "/home/arovai/miniconda3/envs/cvrmap_paper/lib/python3.11/site-packages/nilearn/image/image.py:1041: UserWarning:\n",
      "\n",
      "Data array used to create a new image contains 64-bit ints. This is likely due to creating the array with numpy and passing `int` as the `dtype`. Many tools such as FSL and SPM cannot deal with int64 in Nifti images, so for compatibility the data has been converted to int32.\n",
      "\n",
      "/home/arovai/miniconda3/envs/cvrmap_paper/lib/python3.11/site-packages/nilearn/image/image.py:1041: UserWarning:\n",
      "\n",
      "Data array used to create a new image contains 64-bit ints. This is likely due to creating the array with numpy and passing `int` as the `dtype`. Many tools such as FSL and SPM cannot deal with int64 in Nifti images, so for compatibility the data has been converted to int32.\n",
      "\n",
      "/home/arovai/miniconda3/envs/cvrmap_paper/lib/python3.11/site-packages/nilearn/image/image.py:1041: UserWarning:\n",
      "\n",
      "Data array used to create a new image contains 64-bit ints. This is likely due to creating the array with numpy and passing `int` as the `dtype`. Many tools such as FSL and SPM cannot deal with int64 in Nifti images, so for compatibility the data has been converted to int32.\n",
      "\n",
      "/home/arovai/miniconda3/envs/cvrmap_paper/lib/python3.11/site-packages/nilearn/image/image.py:1041: UserWarning:\n",
      "\n",
      "Data array used to create a new image contains 64-bit ints. This is likely due to creating the array with numpy and passing `int` as the `dtype`. Many tools such as FSL and SPM cannot deal with int64 in Nifti images, so for compatibility the data has been converted to int32.\n",
      "\n",
      "/home/arovai/miniconda3/envs/cvrmap_paper/lib/python3.11/site-packages/nilearn/image/image.py:1041: UserWarning:\n",
      "\n",
      "Data array used to create a new image contains 64-bit ints. This is likely due to creating the array with numpy and passing `int` as the `dtype`. Many tools such as FSL and SPM cannot deal with int64 in Nifti images, so for compatibility the data has been converted to int32.\n",
      "\n",
      "/home/arovai/miniconda3/envs/cvrmap_paper/lib/python3.11/site-packages/nilearn/image/image.py:1041: UserWarning:\n",
      "\n",
      "Data array used to create a new image contains 64-bit ints. This is likely due to creating the array with numpy and passing `int` as the `dtype`. Many tools such as FSL and SPM cannot deal with int64 in Nifti images, so for compatibility the data has been converted to int32.\n",
      "\n",
      "/home/arovai/miniconda3/envs/cvrmap_paper/lib/python3.11/site-packages/nilearn/image/image.py:1041: UserWarning:\n",
      "\n",
      "Data array used to create a new image contains 64-bit ints. This is likely due to creating the array with numpy and passing `int` as the `dtype`. Many tools such as FSL and SPM cannot deal with int64 in Nifti images, so for compatibility the data has been converted to int32.\n",
      "\n",
      "/home/arovai/miniconda3/envs/cvrmap_paper/lib/python3.11/site-packages/nilearn/image/image.py:1041: UserWarning:\n",
      "\n",
      "Data array used to create a new image contains 64-bit ints. This is likely due to creating the array with numpy and passing `int` as the `dtype`. Many tools such as FSL and SPM cannot deal with int64 in Nifti images, so for compatibility the data has been converted to int32.\n",
      "\n",
      "/home/arovai/miniconda3/envs/cvrmap_paper/lib/python3.11/site-packages/nilearn/image/image.py:1041: UserWarning:\n",
      "\n",
      "Data array used to create a new image contains 64-bit ints. This is likely due to creating the array with numpy and passing `int` as the `dtype`. Many tools such as FSL and SPM cannot deal with int64 in Nifti images, so for compatibility the data has been converted to int32.\n",
      "\n",
      "/home/arovai/miniconda3/envs/cvrmap_paper/lib/python3.11/site-packages/nilearn/image/image.py:1041: UserWarning:\n",
      "\n",
      "Data array used to create a new image contains 64-bit ints. This is likely due to creating the array with numpy and passing `int` as the `dtype`. Many tools such as FSL and SPM cannot deal with int64 in Nifti images, so for compatibility the data has been converted to int32.\n",
      "\n",
      "/home/arovai/miniconda3/envs/cvrmap_paper/lib/python3.11/site-packages/nilearn/image/image.py:1041: UserWarning:\n",
      "\n",
      "Data array used to create a new image contains 64-bit ints. This is likely due to creating the array with numpy and passing `int` as the `dtype`. Many tools such as FSL and SPM cannot deal with int64 in Nifti images, so for compatibility the data has been converted to int32.\n",
      "\n"
     ]
    },
    {
     "name": "stderr",
     "output_type": "stream",
     "text": [
      "/home/arovai/miniconda3/envs/cvrmap_paper/lib/python3.11/site-packages/nilearn/image/image.py:1041: UserWarning:\n",
      "\n",
      "Data array used to create a new image contains 64-bit ints. This is likely due to creating the array with numpy and passing `int` as the `dtype`. Many tools such as FSL and SPM cannot deal with int64 in Nifti images, so for compatibility the data has been converted to int32.\n",
      "\n",
      "/home/arovai/miniconda3/envs/cvrmap_paper/lib/python3.11/site-packages/nilearn/image/image.py:1041: UserWarning:\n",
      "\n",
      "Data array used to create a new image contains 64-bit ints. This is likely due to creating the array with numpy and passing `int` as the `dtype`. Many tools such as FSL and SPM cannot deal with int64 in Nifti images, so for compatibility the data has been converted to int32.\n",
      "\n",
      "/home/arovai/miniconda3/envs/cvrmap_paper/lib/python3.11/site-packages/nilearn/image/image.py:1041: UserWarning:\n",
      "\n",
      "Data array used to create a new image contains 64-bit ints. This is likely due to creating the array with numpy and passing `int` as the `dtype`. Many tools such as FSL and SPM cannot deal with int64 in Nifti images, so for compatibility the data has been converted to int32.\n",
      "\n"
     ]
    }
   ],
   "source": [
    "tissue_list = ['GM', 'WM', 'CSF']\n",
    "fn = dict()\n",
    "tissue_niimg = dict()\n",
    "tissue_resampled_niimg = dict()\n",
    "tissue_mask_niimg = dict()\n",
    "cvr_niimg = dict()\n",
    "cvr_mean = dict()\n",
    "cvr_data = dict()\n",
    "data_filter = dict(return_type='filename', extension='.nii.gz')\n",
    "label=None\n",
    "sub_list = sorted(layout.derivatives['cvrmap'].get_subject())\n",
    "\n",
    "for sub in sub_list:\n",
    "    for tissue in tissue_list:\n",
    "        cvr_niimg[sub] = layout.derivatives['cvrmap'].get(**data_filter, label=label, space=space, suffix='cvr', subject=sub)[0]\n",
    "        fn[(sub, tissue)] = layout.derivatives['fMRIPrep'].get(**data_filter, suffix='probseg', space=None, label=tissue, subject=sub)[0]\n",
    "        tissue_niimg[(sub, tissue)] = nb.load(fn[(sub, tissue)])\n",
    "        tissue_resampled_niimg[(sub, tissue)] = image.resample_to_img(tissue_niimg[(sub, tissue)], cvr_niimg[sub], interpolation='nearest')\n",
    "        tissue_mask_niimg[(sub, tissue)] = image.binarize_img(tissue_resampled_niimg[(sub, tissue)], threshold='95%')\n",
    "        cvr_data[(sub, tissue)] = masking.apply_mask(cvr_niimg[sub] , tissue_mask_niimg[(sub, tissue)], ensure_finite = False)\n",
    "        cvr_data[(sub, tissue)] = cvr_data[(sub, tissue)][~np.isnan(cvr_data[(sub, tissue)])]\n",
    "        cvr_mean[(sub, tissue)] = np.mean(cvr_data[(sub, tissue)])"
   ]
  },
  {
   "cell_type": "code",
   "execution_count": 49,
   "id": "21666a3d",
   "metadata": {},
   "outputs": [],
   "source": [
    "participants_df['age_group'] = np.where(participants_df['age'] < 30, 'Age < 30', np.where(participants_df['age'] > 50, 'Age > 50', '30 < Age < 50'))\n",
    "for tissue in tissue_list:\n",
    "    participants_df[tissue] = \"\"\n",
    "    for sub in sub_list:\n",
    "        participants_df.loc[participants_df['participant_id'] == 'sub-' + sub, tissue] = cvr_mean[(sub, tissue)]"
   ]
  },
  {
   "cell_type": "code",
   "execution_count": 50,
   "id": "ac862858",
   "metadata": {
    "scrolled": true
   },
   "outputs": [
    {
     "name": "stdout",
     "output_type": "stream",
     "text": [
      "Results for  GM :\n",
      "LinregressResult(slope=6.479746479306377e-05, intercept=0.19072323233580235, rvalue=0.0102179765379999, pvalue=0.9438543308615421, stderr=0.0009152712519374266, intercept_stderr=0.03220688547384891)\n",
      "Results for  WM :\n",
      "LinregressResult(slope=0.0001347710037250306, intercept=0.1822920986030993, rvalue=0.021665250281087723, pvalue=0.8812860436212537, stderr=0.0008976565093978685, intercept_stderr=0.03158705174213058)\n",
      "Results for  CSF :\n",
      "LinregressResult(slope=0.00018753058019997193, intercept=0.1802084893041983, rvalue=0.029261698598209245, pvalue=0.84013469404284, stderr=0.0009246256448718798, intercept_stderr=0.032536051129690914)\n"
     ]
    }
   ],
   "source": [
    "x = dict()\n",
    "y = dict()\n",
    "stats = dict()\n",
    "\n",
    "for tissue in tissue_list:\n",
    "    x[tissue] = participants_df[tissue].values.astype('float')\n",
    "    y[tissue] = participants_df['age'].values\n",
    "    stats[tissue] = scipy.stats.linregress(y[tissue], x[tissue])\n",
    "    print('Results for  %s :' % tissue)\n",
    "    print(stats[tissue])"
   ]
  },
  {
   "cell_type": "markdown",
   "id": "2d58a033",
   "metadata": {},
   "source": [
    "## Figures"
   ]
  },
  {
   "cell_type": "markdown",
   "id": "9d0aafb2",
   "metadata": {},
   "source": [
    "### Figure 2 (upper part): GM-CVR and WM-CVR versus age groups (violin plots)"
   ]
  },
  {
   "cell_type": "code",
   "execution_count": 51,
   "id": "b830e7ab",
   "metadata": {
    "scrolled": false
   },
   "outputs": [
    {
     "data": {
      "application/vnd.plotly.v1+json": {
       "config": {
        "plotlyServerURL": "https://plot.ly"
       },
       "data": [
        {
         "box": {
          "visible": false
         },
         "legendgroup": "GM",
         "meanline": {
          "visible": true
         },
         "name": "GM",
         "scalegroup": "GM",
         "type": "violin",
         "x": [
          "Age < 30",
          "30 < Age < 50",
          "Age < 30",
          "30 < Age < 50",
          "Age < 30",
          "30 < Age < 50",
          "Age < 30",
          "30 < Age < 50",
          "30 < Age < 50",
          "Age < 30",
          "Age < 30",
          "Age < 30",
          "30 < Age < 50",
          "30 < Age < 50",
          "Age < 30",
          "30 < Age < 50",
          "Age < 30",
          "Age < 30",
          "Age < 30",
          "30 < Age < 50",
          "30 < Age < 50",
          "Age > 50",
          "Age < 30",
          "Age < 30",
          "Age < 30",
          "Age < 30",
          "30 < Age < 50",
          "Age < 30",
          "Age < 30",
          "30 < Age < 50",
          "Age < 30",
          "Age < 30",
          "30 < Age < 50",
          "30 < Age < 50",
          "Age < 30",
          "30 < Age < 50",
          "30 < Age < 50",
          "Age > 50",
          "30 < Age < 50",
          "Age < 30",
          "30 < Age < 50",
          "30 < Age < 50",
          "30 < Age < 50",
          "Age > 50",
          "Age < 30",
          "Age > 50",
          "30 < Age < 50",
          "30 < Age < 50",
          "Age < 30",
          "30 < Age < 50"
         ],
         "y": [
          0.14301571902456858,
          0.06069262383315453,
          0.10198819340276229,
          0.14206175858048128,
          0.16122844592363356,
          0.18171550117877722,
          0.21540879557760065,
          0.21122370893010808,
          0.16042060243739242,
          0.23784033739151014,
          0.21577301395702014,
          0.07560842415419568,
          0.1517705801096311,
          0.18041347536316732,
          0.0993429205342867,
          0.3624494794028173,
          0.2077659722766356,
          0.28378018382039477,
          0.2879457327842642,
          0.2696352266967518,
          0.14086789844784423,
          0.1799036736533755,
          0.2622897328770315,
          0.253870357660639,
          0.18136394157950217,
          0.2753746358286108,
          0.09196392323435633,
          0.18103952042195362,
          0.2317340003510779,
          0.26274374439821296,
          0.22350309608341468,
          0.21281637467547795,
          0.1472747773991433,
          0.09155826347704397,
          0.19040321253498957,
          0.15900930345999167,
          0.0977342249752906,
          0.18399574651347805,
          0.23930801322196013,
          0.2454235386289281,
          0.23524065758388862,
          0.23929703778872813,
          0.15808514681485206,
          0.360389767403781,
          0.19414349965562142,
          0.15704744297365583,
          0.16324939308834557,
          0.20037730890150762,
          0.1260933864684384,
          0.20890383962696416
         ]
        },
        {
         "box": {
          "visible": false
         },
         "legendgroup": "WM",
         "meanline": {
          "visible": true
         },
         "name": "WM",
         "scalegroup": "WM",
         "type": "violin",
         "x": [
          "Age < 30",
          "30 < Age < 50",
          "Age < 30",
          "30 < Age < 50",
          "Age < 30",
          "30 < Age < 50",
          "Age < 30",
          "30 < Age < 50",
          "30 < Age < 50",
          "Age < 30",
          "Age < 30",
          "Age < 30",
          "30 < Age < 50",
          "30 < Age < 50",
          "Age < 30",
          "30 < Age < 50",
          "Age < 30",
          "Age < 30",
          "Age < 30",
          "30 < Age < 50",
          "30 < Age < 50",
          "Age > 50",
          "Age < 30",
          "Age < 30",
          "Age < 30",
          "Age < 30",
          "30 < Age < 50",
          "Age < 30",
          "Age < 30",
          "30 < Age < 50",
          "Age < 30",
          "Age < 30",
          "30 < Age < 50",
          "30 < Age < 50",
          "Age < 30",
          "30 < Age < 50",
          "30 < Age < 50",
          "Age > 50",
          "30 < Age < 50",
          "Age < 30",
          "30 < Age < 50",
          "30 < Age < 50",
          "30 < Age < 50",
          "Age > 50",
          "Age < 30",
          "Age > 50",
          "30 < Age < 50",
          "30 < Age < 50",
          "Age < 30",
          "30 < Age < 50"
         ],
         "y": [
          0.13324991874151865,
          0.06044767358349183,
          0.09038137197759809,
          0.1465671570634336,
          0.16495518345055357,
          0.18085769829099774,
          0.21414677502891868,
          0.2071557002483628,
          0.14373300482386314,
          0.22508818931085778,
          0.21087993531289007,
          0.07817201180264574,
          0.14294240062707234,
          0.1703659352019999,
          0.11276426875791254,
          0.38021779316621723,
          0.1846351011414901,
          0.2699950900330648,
          0.24773749556184554,
          0.26171862074628666,
          0.13219871931105606,
          0.1683080409855856,
          0.22949529957620027,
          0.2601945862714774,
          0.17308517453033517,
          0.26116986691888655,
          0.0852414906802294,
          0.18711390342230258,
          0.2394291613641002,
          0.24667680818626092,
          0.19311095593238686,
          0.1993745635552543,
          0.15818223625076583,
          0.09319634822491901,
          0.22747418445784,
          0.14721245732031424,
          0.10788678192138103,
          0.18340109878135458,
          0.23226314976198373,
          0.23158881434743658,
          0.23253432242471728,
          0.23472671469706557,
          0.14788132730461204,
          0.3623382817954742,
          0.17518117522006343,
          0.1437913340967598,
          0.1533447441413904,
          0.18791182094744144,
          0.12242447516175649,
          0.19840582495637074
         ]
        },
        {
         "marker": {
          "color": "blue",
          "line": {
           "color": "blue",
           "width": 2
          },
          "size": 15,
          "symbol": "star"
         },
         "mode": "markers",
         "showlegend": false,
         "type": "scatter",
         "x": [
          "Age < 30"
         ],
         "y": [
          0.5
         ]
        },
        {
         "marker": {
          "color": "blue",
          "line": {
           "color": "blue",
           "width": 2
          },
          "size": 15,
          "symbol": "star"
         },
         "mode": "markers",
         "showlegend": false,
         "type": "scatter",
         "x": [
          "30 < Age < 50"
         ],
         "y": [
          0.5
         ]
        },
        {
         "marker": {
          "color": "blue",
          "line": {
           "color": "blue",
           "width": 2
          },
          "size": 15,
          "symbol": "star"
         },
         "mode": "markers",
         "showlegend": false,
         "type": "scatter",
         "x": [
          "Age > 50"
         ],
         "y": [
          0.5
         ]
        }
       ],
       "layout": {
        "plot_bgcolor": "white",
        "template": {
         "data": {
          "bar": [
           {
            "error_x": {
             "color": "#2a3f5f"
            },
            "error_y": {
             "color": "#2a3f5f"
            },
            "marker": {
             "line": {
              "color": "#E5ECF6",
              "width": 0.5
             },
             "pattern": {
              "fillmode": "overlay",
              "size": 10,
              "solidity": 0.2
             }
            },
            "type": "bar"
           }
          ],
          "barpolar": [
           {
            "marker": {
             "line": {
              "color": "#E5ECF6",
              "width": 0.5
             },
             "pattern": {
              "fillmode": "overlay",
              "size": 10,
              "solidity": 0.2
             }
            },
            "type": "barpolar"
           }
          ],
          "carpet": [
           {
            "aaxis": {
             "endlinecolor": "#2a3f5f",
             "gridcolor": "white",
             "linecolor": "white",
             "minorgridcolor": "white",
             "startlinecolor": "#2a3f5f"
            },
            "baxis": {
             "endlinecolor": "#2a3f5f",
             "gridcolor": "white",
             "linecolor": "white",
             "minorgridcolor": "white",
             "startlinecolor": "#2a3f5f"
            },
            "type": "carpet"
           }
          ],
          "choropleth": [
           {
            "colorbar": {
             "outlinewidth": 0,
             "ticks": ""
            },
            "type": "choropleth"
           }
          ],
          "contour": [
           {
            "colorbar": {
             "outlinewidth": 0,
             "ticks": ""
            },
            "colorscale": [
             [
              0,
              "#0d0887"
             ],
             [
              0.1111111111111111,
              "#46039f"
             ],
             [
              0.2222222222222222,
              "#7201a8"
             ],
             [
              0.3333333333333333,
              "#9c179e"
             ],
             [
              0.4444444444444444,
              "#bd3786"
             ],
             [
              0.5555555555555556,
              "#d8576b"
             ],
             [
              0.6666666666666666,
              "#ed7953"
             ],
             [
              0.7777777777777778,
              "#fb9f3a"
             ],
             [
              0.8888888888888888,
              "#fdca26"
             ],
             [
              1,
              "#f0f921"
             ]
            ],
            "type": "contour"
           }
          ],
          "contourcarpet": [
           {
            "colorbar": {
             "outlinewidth": 0,
             "ticks": ""
            },
            "type": "contourcarpet"
           }
          ],
          "heatmap": [
           {
            "colorbar": {
             "outlinewidth": 0,
             "ticks": ""
            },
            "colorscale": [
             [
              0,
              "#0d0887"
             ],
             [
              0.1111111111111111,
              "#46039f"
             ],
             [
              0.2222222222222222,
              "#7201a8"
             ],
             [
              0.3333333333333333,
              "#9c179e"
             ],
             [
              0.4444444444444444,
              "#bd3786"
             ],
             [
              0.5555555555555556,
              "#d8576b"
             ],
             [
              0.6666666666666666,
              "#ed7953"
             ],
             [
              0.7777777777777778,
              "#fb9f3a"
             ],
             [
              0.8888888888888888,
              "#fdca26"
             ],
             [
              1,
              "#f0f921"
             ]
            ],
            "type": "heatmap"
           }
          ],
          "heatmapgl": [
           {
            "colorbar": {
             "outlinewidth": 0,
             "ticks": ""
            },
            "colorscale": [
             [
              0,
              "#0d0887"
             ],
             [
              0.1111111111111111,
              "#46039f"
             ],
             [
              0.2222222222222222,
              "#7201a8"
             ],
             [
              0.3333333333333333,
              "#9c179e"
             ],
             [
              0.4444444444444444,
              "#bd3786"
             ],
             [
              0.5555555555555556,
              "#d8576b"
             ],
             [
              0.6666666666666666,
              "#ed7953"
             ],
             [
              0.7777777777777778,
              "#fb9f3a"
             ],
             [
              0.8888888888888888,
              "#fdca26"
             ],
             [
              1,
              "#f0f921"
             ]
            ],
            "type": "heatmapgl"
           }
          ],
          "histogram": [
           {
            "marker": {
             "pattern": {
              "fillmode": "overlay",
              "size": 10,
              "solidity": 0.2
             }
            },
            "type": "histogram"
           }
          ],
          "histogram2d": [
           {
            "colorbar": {
             "outlinewidth": 0,
             "ticks": ""
            },
            "colorscale": [
             [
              0,
              "#0d0887"
             ],
             [
              0.1111111111111111,
              "#46039f"
             ],
             [
              0.2222222222222222,
              "#7201a8"
             ],
             [
              0.3333333333333333,
              "#9c179e"
             ],
             [
              0.4444444444444444,
              "#bd3786"
             ],
             [
              0.5555555555555556,
              "#d8576b"
             ],
             [
              0.6666666666666666,
              "#ed7953"
             ],
             [
              0.7777777777777778,
              "#fb9f3a"
             ],
             [
              0.8888888888888888,
              "#fdca26"
             ],
             [
              1,
              "#f0f921"
             ]
            ],
            "type": "histogram2d"
           }
          ],
          "histogram2dcontour": [
           {
            "colorbar": {
             "outlinewidth": 0,
             "ticks": ""
            },
            "colorscale": [
             [
              0,
              "#0d0887"
             ],
             [
              0.1111111111111111,
              "#46039f"
             ],
             [
              0.2222222222222222,
              "#7201a8"
             ],
             [
              0.3333333333333333,
              "#9c179e"
             ],
             [
              0.4444444444444444,
              "#bd3786"
             ],
             [
              0.5555555555555556,
              "#d8576b"
             ],
             [
              0.6666666666666666,
              "#ed7953"
             ],
             [
              0.7777777777777778,
              "#fb9f3a"
             ],
             [
              0.8888888888888888,
              "#fdca26"
             ],
             [
              1,
              "#f0f921"
             ]
            ],
            "type": "histogram2dcontour"
           }
          ],
          "mesh3d": [
           {
            "colorbar": {
             "outlinewidth": 0,
             "ticks": ""
            },
            "type": "mesh3d"
           }
          ],
          "parcoords": [
           {
            "line": {
             "colorbar": {
              "outlinewidth": 0,
              "ticks": ""
             }
            },
            "type": "parcoords"
           }
          ],
          "pie": [
           {
            "automargin": true,
            "type": "pie"
           }
          ],
          "scatter": [
           {
            "fillpattern": {
             "fillmode": "overlay",
             "size": 10,
             "solidity": 0.2
            },
            "type": "scatter"
           }
          ],
          "scatter3d": [
           {
            "line": {
             "colorbar": {
              "outlinewidth": 0,
              "ticks": ""
             }
            },
            "marker": {
             "colorbar": {
              "outlinewidth": 0,
              "ticks": ""
             }
            },
            "type": "scatter3d"
           }
          ],
          "scattercarpet": [
           {
            "marker": {
             "colorbar": {
              "outlinewidth": 0,
              "ticks": ""
             }
            },
            "type": "scattercarpet"
           }
          ],
          "scattergeo": [
           {
            "marker": {
             "colorbar": {
              "outlinewidth": 0,
              "ticks": ""
             }
            },
            "type": "scattergeo"
           }
          ],
          "scattergl": [
           {
            "marker": {
             "colorbar": {
              "outlinewidth": 0,
              "ticks": ""
             }
            },
            "type": "scattergl"
           }
          ],
          "scattermapbox": [
           {
            "marker": {
             "colorbar": {
              "outlinewidth": 0,
              "ticks": ""
             }
            },
            "type": "scattermapbox"
           }
          ],
          "scatterpolar": [
           {
            "marker": {
             "colorbar": {
              "outlinewidth": 0,
              "ticks": ""
             }
            },
            "type": "scatterpolar"
           }
          ],
          "scatterpolargl": [
           {
            "marker": {
             "colorbar": {
              "outlinewidth": 0,
              "ticks": ""
             }
            },
            "type": "scatterpolargl"
           }
          ],
          "scatterternary": [
           {
            "marker": {
             "colorbar": {
              "outlinewidth": 0,
              "ticks": ""
             }
            },
            "type": "scatterternary"
           }
          ],
          "surface": [
           {
            "colorbar": {
             "outlinewidth": 0,
             "ticks": ""
            },
            "colorscale": [
             [
              0,
              "#0d0887"
             ],
             [
              0.1111111111111111,
              "#46039f"
             ],
             [
              0.2222222222222222,
              "#7201a8"
             ],
             [
              0.3333333333333333,
              "#9c179e"
             ],
             [
              0.4444444444444444,
              "#bd3786"
             ],
             [
              0.5555555555555556,
              "#d8576b"
             ],
             [
              0.6666666666666666,
              "#ed7953"
             ],
             [
              0.7777777777777778,
              "#fb9f3a"
             ],
             [
              0.8888888888888888,
              "#fdca26"
             ],
             [
              1,
              "#f0f921"
             ]
            ],
            "type": "surface"
           }
          ],
          "table": [
           {
            "cells": {
             "fill": {
              "color": "#EBF0F8"
             },
             "line": {
              "color": "white"
             }
            },
            "header": {
             "fill": {
              "color": "#C8D4E3"
             },
             "line": {
              "color": "white"
             }
            },
            "type": "table"
           }
          ]
         },
         "layout": {
          "annotationdefaults": {
           "arrowcolor": "#2a3f5f",
           "arrowhead": 0,
           "arrowwidth": 1
          },
          "autotypenumbers": "strict",
          "coloraxis": {
           "colorbar": {
            "outlinewidth": 0,
            "ticks": ""
           }
          },
          "colorscale": {
           "diverging": [
            [
             0,
             "#8e0152"
            ],
            [
             0.1,
             "#c51b7d"
            ],
            [
             0.2,
             "#de77ae"
            ],
            [
             0.3,
             "#f1b6da"
            ],
            [
             0.4,
             "#fde0ef"
            ],
            [
             0.5,
             "#f7f7f7"
            ],
            [
             0.6,
             "#e6f5d0"
            ],
            [
             0.7,
             "#b8e186"
            ],
            [
             0.8,
             "#7fbc41"
            ],
            [
             0.9,
             "#4d9221"
            ],
            [
             1,
             "#276419"
            ]
           ],
           "sequential": [
            [
             0,
             "#0d0887"
            ],
            [
             0.1111111111111111,
             "#46039f"
            ],
            [
             0.2222222222222222,
             "#7201a8"
            ],
            [
             0.3333333333333333,
             "#9c179e"
            ],
            [
             0.4444444444444444,
             "#bd3786"
            ],
            [
             0.5555555555555556,
             "#d8576b"
            ],
            [
             0.6666666666666666,
             "#ed7953"
            ],
            [
             0.7777777777777778,
             "#fb9f3a"
            ],
            [
             0.8888888888888888,
             "#fdca26"
            ],
            [
             1,
             "#f0f921"
            ]
           ],
           "sequentialminus": [
            [
             0,
             "#0d0887"
            ],
            [
             0.1111111111111111,
             "#46039f"
            ],
            [
             0.2222222222222222,
             "#7201a8"
            ],
            [
             0.3333333333333333,
             "#9c179e"
            ],
            [
             0.4444444444444444,
             "#bd3786"
            ],
            [
             0.5555555555555556,
             "#d8576b"
            ],
            [
             0.6666666666666666,
             "#ed7953"
            ],
            [
             0.7777777777777778,
             "#fb9f3a"
            ],
            [
             0.8888888888888888,
             "#fdca26"
            ],
            [
             1,
             "#f0f921"
            ]
           ]
          },
          "colorway": [
           "#636efa",
           "#EF553B",
           "#00cc96",
           "#ab63fa",
           "#FFA15A",
           "#19d3f3",
           "#FF6692",
           "#B6E880",
           "#FF97FF",
           "#FECB52"
          ],
          "font": {
           "color": "#2a3f5f"
          },
          "geo": {
           "bgcolor": "white",
           "lakecolor": "white",
           "landcolor": "#E5ECF6",
           "showlakes": true,
           "showland": true,
           "subunitcolor": "white"
          },
          "hoverlabel": {
           "align": "left"
          },
          "hovermode": "closest",
          "mapbox": {
           "style": "light"
          },
          "paper_bgcolor": "white",
          "plot_bgcolor": "#E5ECF6",
          "polar": {
           "angularaxis": {
            "gridcolor": "white",
            "linecolor": "white",
            "ticks": ""
           },
           "bgcolor": "#E5ECF6",
           "radialaxis": {
            "gridcolor": "white",
            "linecolor": "white",
            "ticks": ""
           }
          },
          "scene": {
           "xaxis": {
            "backgroundcolor": "#E5ECF6",
            "gridcolor": "white",
            "gridwidth": 2,
            "linecolor": "white",
            "showbackground": true,
            "ticks": "",
            "zerolinecolor": "white"
           },
           "yaxis": {
            "backgroundcolor": "#E5ECF6",
            "gridcolor": "white",
            "gridwidth": 2,
            "linecolor": "white",
            "showbackground": true,
            "ticks": "",
            "zerolinecolor": "white"
           },
           "zaxis": {
            "backgroundcolor": "#E5ECF6",
            "gridcolor": "white",
            "gridwidth": 2,
            "linecolor": "white",
            "showbackground": true,
            "ticks": "",
            "zerolinecolor": "white"
           }
          },
          "shapedefaults": {
           "line": {
            "color": "#2a3f5f"
           }
          },
          "ternary": {
           "aaxis": {
            "gridcolor": "white",
            "linecolor": "white",
            "ticks": ""
           },
           "baxis": {
            "gridcolor": "white",
            "linecolor": "white",
            "ticks": ""
           },
           "bgcolor": "#E5ECF6",
           "caxis": {
            "gridcolor": "white",
            "linecolor": "white",
            "ticks": ""
           }
          },
          "title": {
           "x": 0.05
          },
          "xaxis": {
           "automargin": true,
           "gridcolor": "white",
           "linecolor": "white",
           "ticks": "",
           "title": {
            "standoff": 15
           },
           "zerolinecolor": "white",
           "zerolinewidth": 2
          },
          "yaxis": {
           "automargin": true,
           "gridcolor": "white",
           "linecolor": "white",
           "ticks": "",
           "title": {
            "standoff": 15
           },
           "zerolinecolor": "white",
           "zerolinewidth": 2
          }
         }
        },
        "violinmode": "group",
        "yaxis": {
         "title": {
          "text": "CVR (%BOLD/mmHg)"
         }
        }
       }
      },
      "text/html": [
       "<div>                            <div id=\"4bc4ec91-6b88-499f-b514-1f64d2c8fde4\" class=\"plotly-graph-div\" style=\"height:525px; width:100%;\"></div>            <script type=\"text/javascript\">                require([\"plotly\"], function(Plotly) {                    window.PLOTLYENV=window.PLOTLYENV || {};                                    if (document.getElementById(\"4bc4ec91-6b88-499f-b514-1f64d2c8fde4\")) {                    Plotly.newPlot(                        \"4bc4ec91-6b88-499f-b514-1f64d2c8fde4\",                        [{\"legendgroup\":\"GM\",\"name\":\"GM\",\"scalegroup\":\"GM\",\"x\":[\"Age < 30\",\"30 < Age < 50\",\"Age < 30\",\"30 < Age < 50\",\"Age < 30\",\"30 < Age < 50\",\"Age < 30\",\"30 < Age < 50\",\"30 < Age < 50\",\"Age < 30\",\"Age < 30\",\"Age < 30\",\"30 < Age < 50\",\"30 < Age < 50\",\"Age < 30\",\"30 < Age < 50\",\"Age < 30\",\"Age < 30\",\"Age < 30\",\"30 < Age < 50\",\"30 < Age < 50\",\"Age > 50\",\"Age < 30\",\"Age < 30\",\"Age < 30\",\"Age < 30\",\"30 < Age < 50\",\"Age < 30\",\"Age < 30\",\"30 < Age < 50\",\"Age < 30\",\"Age < 30\",\"30 < Age < 50\",\"30 < Age < 50\",\"Age < 30\",\"30 < Age < 50\",\"30 < Age < 50\",\"Age > 50\",\"30 < Age < 50\",\"Age < 30\",\"30 < Age < 50\",\"30 < Age < 50\",\"30 < Age < 50\",\"Age > 50\",\"Age < 30\",\"Age > 50\",\"30 < Age < 50\",\"30 < Age < 50\",\"Age < 30\",\"30 < Age < 50\"],\"y\":[0.14301571902456858,0.06069262383315453,0.10198819340276229,0.14206175858048128,0.16122844592363356,0.18171550117877722,0.21540879557760065,0.21122370893010808,0.16042060243739242,0.23784033739151014,0.21577301395702014,0.07560842415419568,0.1517705801096311,0.18041347536316732,0.0993429205342867,0.3624494794028173,0.2077659722766356,0.28378018382039477,0.2879457327842642,0.2696352266967518,0.14086789844784423,0.1799036736533755,0.2622897328770315,0.253870357660639,0.18136394157950217,0.2753746358286108,0.09196392323435633,0.18103952042195362,0.2317340003510779,0.26274374439821296,0.22350309608341468,0.21281637467547795,0.1472747773991433,0.09155826347704397,0.19040321253498957,0.15900930345999167,0.0977342249752906,0.18399574651347805,0.23930801322196013,0.2454235386289281,0.23524065758388862,0.23929703778872813,0.15808514681485206,0.360389767403781,0.19414349965562142,0.15704744297365583,0.16324939308834557,0.20037730890150762,0.1260933864684384,0.20890383962696416],\"type\":\"violin\",\"box\":{\"visible\":false},\"meanline\":{\"visible\":true}},{\"legendgroup\":\"WM\",\"name\":\"WM\",\"scalegroup\":\"WM\",\"x\":[\"Age < 30\",\"30 < Age < 50\",\"Age < 30\",\"30 < Age < 50\",\"Age < 30\",\"30 < Age < 50\",\"Age < 30\",\"30 < Age < 50\",\"30 < Age < 50\",\"Age < 30\",\"Age < 30\",\"Age < 30\",\"30 < Age < 50\",\"30 < Age < 50\",\"Age < 30\",\"30 < Age < 50\",\"Age < 30\",\"Age < 30\",\"Age < 30\",\"30 < Age < 50\",\"30 < Age < 50\",\"Age > 50\",\"Age < 30\",\"Age < 30\",\"Age < 30\",\"Age < 30\",\"30 < Age < 50\",\"Age < 30\",\"Age < 30\",\"30 < Age < 50\",\"Age < 30\",\"Age < 30\",\"30 < Age < 50\",\"30 < Age < 50\",\"Age < 30\",\"30 < Age < 50\",\"30 < Age < 50\",\"Age > 50\",\"30 < Age < 50\",\"Age < 30\",\"30 < Age < 50\",\"30 < Age < 50\",\"30 < Age < 50\",\"Age > 50\",\"Age < 30\",\"Age > 50\",\"30 < Age < 50\",\"30 < Age < 50\",\"Age < 30\",\"30 < Age < 50\"],\"y\":[0.13324991874151865,0.06044767358349183,0.09038137197759809,0.1465671570634336,0.16495518345055357,0.18085769829099774,0.21414677502891868,0.2071557002483628,0.14373300482386314,0.22508818931085778,0.21087993531289007,0.07817201180264574,0.14294240062707234,0.1703659352019999,0.11276426875791254,0.38021779316621723,0.1846351011414901,0.2699950900330648,0.24773749556184554,0.26171862074628666,0.13219871931105606,0.1683080409855856,0.22949529957620027,0.2601945862714774,0.17308517453033517,0.26116986691888655,0.0852414906802294,0.18711390342230258,0.2394291613641002,0.24667680818626092,0.19311095593238686,0.1993745635552543,0.15818223625076583,0.09319634822491901,0.22747418445784,0.14721245732031424,0.10788678192138103,0.18340109878135458,0.23226314976198373,0.23158881434743658,0.23253432242471728,0.23472671469706557,0.14788132730461204,0.3623382817954742,0.17518117522006343,0.1437913340967598,0.1533447441413904,0.18791182094744144,0.12242447516175649,0.19840582495637074],\"type\":\"violin\",\"box\":{\"visible\":false},\"meanline\":{\"visible\":true}},{\"marker\":{\"color\":\"blue\",\"line\":{\"color\":\"blue\",\"width\":2},\"size\":15,\"symbol\":\"star\"},\"mode\":\"markers\",\"showlegend\":false,\"x\":[\"Age < 30\"],\"y\":[0.5],\"type\":\"scatter\"},{\"marker\":{\"color\":\"blue\",\"line\":{\"color\":\"blue\",\"width\":2},\"size\":15,\"symbol\":\"star\"},\"mode\":\"markers\",\"showlegend\":false,\"x\":[\"30 < Age < 50\"],\"y\":[0.5],\"type\":\"scatter\"},{\"marker\":{\"color\":\"blue\",\"line\":{\"color\":\"blue\",\"width\":2},\"size\":15,\"symbol\":\"star\"},\"mode\":\"markers\",\"showlegend\":false,\"x\":[\"Age > 50\"],\"y\":[0.5],\"type\":\"scatter\"}],                        {\"template\":{\"data\":{\"histogram2dcontour\":[{\"type\":\"histogram2dcontour\",\"colorbar\":{\"outlinewidth\":0,\"ticks\":\"\"},\"colorscale\":[[0.0,\"#0d0887\"],[0.1111111111111111,\"#46039f\"],[0.2222222222222222,\"#7201a8\"],[0.3333333333333333,\"#9c179e\"],[0.4444444444444444,\"#bd3786\"],[0.5555555555555556,\"#d8576b\"],[0.6666666666666666,\"#ed7953\"],[0.7777777777777778,\"#fb9f3a\"],[0.8888888888888888,\"#fdca26\"],[1.0,\"#f0f921\"]]}],\"choropleth\":[{\"type\":\"choropleth\",\"colorbar\":{\"outlinewidth\":0,\"ticks\":\"\"}}],\"histogram2d\":[{\"type\":\"histogram2d\",\"colorbar\":{\"outlinewidth\":0,\"ticks\":\"\"},\"colorscale\":[[0.0,\"#0d0887\"],[0.1111111111111111,\"#46039f\"],[0.2222222222222222,\"#7201a8\"],[0.3333333333333333,\"#9c179e\"],[0.4444444444444444,\"#bd3786\"],[0.5555555555555556,\"#d8576b\"],[0.6666666666666666,\"#ed7953\"],[0.7777777777777778,\"#fb9f3a\"],[0.8888888888888888,\"#fdca26\"],[1.0,\"#f0f921\"]]}],\"heatmap\":[{\"type\":\"heatmap\",\"colorbar\":{\"outlinewidth\":0,\"ticks\":\"\"},\"colorscale\":[[0.0,\"#0d0887\"],[0.1111111111111111,\"#46039f\"],[0.2222222222222222,\"#7201a8\"],[0.3333333333333333,\"#9c179e\"],[0.4444444444444444,\"#bd3786\"],[0.5555555555555556,\"#d8576b\"],[0.6666666666666666,\"#ed7953\"],[0.7777777777777778,\"#fb9f3a\"],[0.8888888888888888,\"#fdca26\"],[1.0,\"#f0f921\"]]}],\"heatmapgl\":[{\"type\":\"heatmapgl\",\"colorbar\":{\"outlinewidth\":0,\"ticks\":\"\"},\"colorscale\":[[0.0,\"#0d0887\"],[0.1111111111111111,\"#46039f\"],[0.2222222222222222,\"#7201a8\"],[0.3333333333333333,\"#9c179e\"],[0.4444444444444444,\"#bd3786\"],[0.5555555555555556,\"#d8576b\"],[0.6666666666666666,\"#ed7953\"],[0.7777777777777778,\"#fb9f3a\"],[0.8888888888888888,\"#fdca26\"],[1.0,\"#f0f921\"]]}],\"contourcarpet\":[{\"type\":\"contourcarpet\",\"colorbar\":{\"outlinewidth\":0,\"ticks\":\"\"}}],\"contour\":[{\"type\":\"contour\",\"colorbar\":{\"outlinewidth\":0,\"ticks\":\"\"},\"colorscale\":[[0.0,\"#0d0887\"],[0.1111111111111111,\"#46039f\"],[0.2222222222222222,\"#7201a8\"],[0.3333333333333333,\"#9c179e\"],[0.4444444444444444,\"#bd3786\"],[0.5555555555555556,\"#d8576b\"],[0.6666666666666666,\"#ed7953\"],[0.7777777777777778,\"#fb9f3a\"],[0.8888888888888888,\"#fdca26\"],[1.0,\"#f0f921\"]]}],\"surface\":[{\"type\":\"surface\",\"colorbar\":{\"outlinewidth\":0,\"ticks\":\"\"},\"colorscale\":[[0.0,\"#0d0887\"],[0.1111111111111111,\"#46039f\"],[0.2222222222222222,\"#7201a8\"],[0.3333333333333333,\"#9c179e\"],[0.4444444444444444,\"#bd3786\"],[0.5555555555555556,\"#d8576b\"],[0.6666666666666666,\"#ed7953\"],[0.7777777777777778,\"#fb9f3a\"],[0.8888888888888888,\"#fdca26\"],[1.0,\"#f0f921\"]]}],\"mesh3d\":[{\"type\":\"mesh3d\",\"colorbar\":{\"outlinewidth\":0,\"ticks\":\"\"}}],\"scatter\":[{\"fillpattern\":{\"fillmode\":\"overlay\",\"size\":10,\"solidity\":0.2},\"type\":\"scatter\"}],\"parcoords\":[{\"type\":\"parcoords\",\"line\":{\"colorbar\":{\"outlinewidth\":0,\"ticks\":\"\"}}}],\"scatterpolargl\":[{\"type\":\"scatterpolargl\",\"marker\":{\"colorbar\":{\"outlinewidth\":0,\"ticks\":\"\"}}}],\"bar\":[{\"error_x\":{\"color\":\"#2a3f5f\"},\"error_y\":{\"color\":\"#2a3f5f\"},\"marker\":{\"line\":{\"color\":\"#E5ECF6\",\"width\":0.5},\"pattern\":{\"fillmode\":\"overlay\",\"size\":10,\"solidity\":0.2}},\"type\":\"bar\"}],\"scattergeo\":[{\"type\":\"scattergeo\",\"marker\":{\"colorbar\":{\"outlinewidth\":0,\"ticks\":\"\"}}}],\"scatterpolar\":[{\"type\":\"scatterpolar\",\"marker\":{\"colorbar\":{\"outlinewidth\":0,\"ticks\":\"\"}}}],\"histogram\":[{\"marker\":{\"pattern\":{\"fillmode\":\"overlay\",\"size\":10,\"solidity\":0.2}},\"type\":\"histogram\"}],\"scattergl\":[{\"type\":\"scattergl\",\"marker\":{\"colorbar\":{\"outlinewidth\":0,\"ticks\":\"\"}}}],\"scatter3d\":[{\"type\":\"scatter3d\",\"line\":{\"colorbar\":{\"outlinewidth\":0,\"ticks\":\"\"}},\"marker\":{\"colorbar\":{\"outlinewidth\":0,\"ticks\":\"\"}}}],\"scattermapbox\":[{\"type\":\"scattermapbox\",\"marker\":{\"colorbar\":{\"outlinewidth\":0,\"ticks\":\"\"}}}],\"scatterternary\":[{\"type\":\"scatterternary\",\"marker\":{\"colorbar\":{\"outlinewidth\":0,\"ticks\":\"\"}}}],\"scattercarpet\":[{\"type\":\"scattercarpet\",\"marker\":{\"colorbar\":{\"outlinewidth\":0,\"ticks\":\"\"}}}],\"carpet\":[{\"aaxis\":{\"endlinecolor\":\"#2a3f5f\",\"gridcolor\":\"white\",\"linecolor\":\"white\",\"minorgridcolor\":\"white\",\"startlinecolor\":\"#2a3f5f\"},\"baxis\":{\"endlinecolor\":\"#2a3f5f\",\"gridcolor\":\"white\",\"linecolor\":\"white\",\"minorgridcolor\":\"white\",\"startlinecolor\":\"#2a3f5f\"},\"type\":\"carpet\"}],\"table\":[{\"cells\":{\"fill\":{\"color\":\"#EBF0F8\"},\"line\":{\"color\":\"white\"}},\"header\":{\"fill\":{\"color\":\"#C8D4E3\"},\"line\":{\"color\":\"white\"}},\"type\":\"table\"}],\"barpolar\":[{\"marker\":{\"line\":{\"color\":\"#E5ECF6\",\"width\":0.5},\"pattern\":{\"fillmode\":\"overlay\",\"size\":10,\"solidity\":0.2}},\"type\":\"barpolar\"}],\"pie\":[{\"automargin\":true,\"type\":\"pie\"}]},\"layout\":{\"autotypenumbers\":\"strict\",\"colorway\":[\"#636efa\",\"#EF553B\",\"#00cc96\",\"#ab63fa\",\"#FFA15A\",\"#19d3f3\",\"#FF6692\",\"#B6E880\",\"#FF97FF\",\"#FECB52\"],\"font\":{\"color\":\"#2a3f5f\"},\"hovermode\":\"closest\",\"hoverlabel\":{\"align\":\"left\"},\"paper_bgcolor\":\"white\",\"plot_bgcolor\":\"#E5ECF6\",\"polar\":{\"bgcolor\":\"#E5ECF6\",\"angularaxis\":{\"gridcolor\":\"white\",\"linecolor\":\"white\",\"ticks\":\"\"},\"radialaxis\":{\"gridcolor\":\"white\",\"linecolor\":\"white\",\"ticks\":\"\"}},\"ternary\":{\"bgcolor\":\"#E5ECF6\",\"aaxis\":{\"gridcolor\":\"white\",\"linecolor\":\"white\",\"ticks\":\"\"},\"baxis\":{\"gridcolor\":\"white\",\"linecolor\":\"white\",\"ticks\":\"\"},\"caxis\":{\"gridcolor\":\"white\",\"linecolor\":\"white\",\"ticks\":\"\"}},\"coloraxis\":{\"colorbar\":{\"outlinewidth\":0,\"ticks\":\"\"}},\"colorscale\":{\"sequential\":[[0.0,\"#0d0887\"],[0.1111111111111111,\"#46039f\"],[0.2222222222222222,\"#7201a8\"],[0.3333333333333333,\"#9c179e\"],[0.4444444444444444,\"#bd3786\"],[0.5555555555555556,\"#d8576b\"],[0.6666666666666666,\"#ed7953\"],[0.7777777777777778,\"#fb9f3a\"],[0.8888888888888888,\"#fdca26\"],[1.0,\"#f0f921\"]],\"sequentialminus\":[[0.0,\"#0d0887\"],[0.1111111111111111,\"#46039f\"],[0.2222222222222222,\"#7201a8\"],[0.3333333333333333,\"#9c179e\"],[0.4444444444444444,\"#bd3786\"],[0.5555555555555556,\"#d8576b\"],[0.6666666666666666,\"#ed7953\"],[0.7777777777777778,\"#fb9f3a\"],[0.8888888888888888,\"#fdca26\"],[1.0,\"#f0f921\"]],\"diverging\":[[0,\"#8e0152\"],[0.1,\"#c51b7d\"],[0.2,\"#de77ae\"],[0.3,\"#f1b6da\"],[0.4,\"#fde0ef\"],[0.5,\"#f7f7f7\"],[0.6,\"#e6f5d0\"],[0.7,\"#b8e186\"],[0.8,\"#7fbc41\"],[0.9,\"#4d9221\"],[1,\"#276419\"]]},\"xaxis\":{\"gridcolor\":\"white\",\"linecolor\":\"white\",\"ticks\":\"\",\"title\":{\"standoff\":15},\"zerolinecolor\":\"white\",\"automargin\":true,\"zerolinewidth\":2},\"yaxis\":{\"gridcolor\":\"white\",\"linecolor\":\"white\",\"ticks\":\"\",\"title\":{\"standoff\":15},\"zerolinecolor\":\"white\",\"automargin\":true,\"zerolinewidth\":2},\"scene\":{\"xaxis\":{\"backgroundcolor\":\"#E5ECF6\",\"gridcolor\":\"white\",\"linecolor\":\"white\",\"showbackground\":true,\"ticks\":\"\",\"zerolinecolor\":\"white\",\"gridwidth\":2},\"yaxis\":{\"backgroundcolor\":\"#E5ECF6\",\"gridcolor\":\"white\",\"linecolor\":\"white\",\"showbackground\":true,\"ticks\":\"\",\"zerolinecolor\":\"white\",\"gridwidth\":2},\"zaxis\":{\"backgroundcolor\":\"#E5ECF6\",\"gridcolor\":\"white\",\"linecolor\":\"white\",\"showbackground\":true,\"ticks\":\"\",\"zerolinecolor\":\"white\",\"gridwidth\":2}},\"shapedefaults\":{\"line\":{\"color\":\"#2a3f5f\"}},\"annotationdefaults\":{\"arrowcolor\":\"#2a3f5f\",\"arrowhead\":0,\"arrowwidth\":1},\"geo\":{\"bgcolor\":\"white\",\"landcolor\":\"#E5ECF6\",\"subunitcolor\":\"white\",\"showland\":true,\"showlakes\":true,\"lakecolor\":\"white\"},\"title\":{\"x\":0.05},\"mapbox\":{\"style\":\"light\"}}},\"violinmode\":\"group\",\"plot_bgcolor\":\"white\",\"yaxis\":{\"title\":{\"text\":\"CVR (%BOLD/mmHg)\"}}},                        {\"responsive\": true}                    ).then(function(){\n",
       "                            \n",
       "var gd = document.getElementById('4bc4ec91-6b88-499f-b514-1f64d2c8fde4');\n",
       "var x = new MutationObserver(function (mutations, observer) {{\n",
       "        var display = window.getComputedStyle(gd).display;\n",
       "        if (!display || display === 'none') {{\n",
       "            console.log([gd, 'removed!']);\n",
       "            Plotly.purge(gd);\n",
       "            observer.disconnect();\n",
       "        }}\n",
       "}});\n",
       "\n",
       "// Listen for the removal of the full notebook cells\n",
       "var notebookContainer = gd.closest('#notebook-container');\n",
       "if (notebookContainer) {{\n",
       "    x.observe(notebookContainer, {childList: true});\n",
       "}}\n",
       "\n",
       "// Listen for the clearing of the current output cell\n",
       "var outputEl = gd.closest('.output');\n",
       "if (outputEl) {{\n",
       "    x.observe(outputEl, {childList: true});\n",
       "}}\n",
       "\n",
       "                        })                };                });            </script>        </div>"
      ]
     },
     "metadata": {},
     "output_type": "display_data"
    }
   ],
   "source": [
    "tissue_display_list = ['GM', 'WM']\n",
    "group_list = ['Age < 30', '30 < Age < 50', 'Age > 50']\n",
    "fig = go.Figure()\n",
    "for tissue in tissue_display_list:\n",
    "    fig.add_trace(go.Violin(y=participants_df[tissue], x=participants_df['age_group'], legendgroup=tissue, scalegroup=tissue, name=tissue))\n",
    "fig.update_traces(box_visible=False, meanline_visible=True)\n",
    "fig.update_layout(violinmode='group', plot_bgcolor='white')\n",
    "fig.update_yaxes(title='CVR (%BOLD/mmHg)')\n",
    "for group in group_list:\n",
    "    fig.add_trace(go.Scatter(x=[group], y=[0.5], marker=dict(size=15), mode='markers', marker_symbol='star', marker_line_width=2, marker_color='blue', marker_line_color='blue', showlegend=False))\n",
    "fig.show()"
   ]
  },
  {
   "cell_type": "markdown",
   "id": "065d25fa",
   "metadata": {},
   "source": [
    "### Figure 2 (lower part): CVR - age corrected mean"
   ]
  },
  {
   "cell_type": "code",
   "execution_count": 52,
   "id": "874fd6af",
   "metadata": {},
   "outputs": [
    {
     "data": {
      "text/plain": [
       "<nilearn.plotting.displays._slicers.ZSlicer at 0x7fd2dc09a090>"
      ]
     },
     "execution_count": 52,
     "metadata": {},
     "output_type": "execute_result"
    },
    {
     "data": {
      "image/png": "[encoded data removed]",
      "text/plain": [
       "<Figure size 2270x230 with 12 Axes>"
      ]
     },
     "metadata": {},
     "output_type": "display_data"
    }
   ],
   "source": [
    "plotting.plot_img(cvr_con, cmap='hot', display_mode='z', black_bg=True, cbar_tick_format=\"%0.2g\",  annotate=False, colorbar=True, vmin=0, vmax=0.8, cut_coords=10)"
   ]
  },
  {
   "cell_type": "markdown",
   "id": "6b6e1d62",
   "metadata": {},
   "source": [
    "### Extented Data Figure 3: GM-CVR and WM-CVR versus age, with linear regressions"
   ]
  },
  {
   "cell_type": "code",
   "execution_count": 53,
   "id": "3cbaa08c",
   "metadata": {},
   "outputs": [
    {
     "data": {
      "application/vnd.plotly.v1+json": {
       "config": {
        "plotlyServerURL": "https://plot.ly"
       },
       "data": [
        {
         "marker": {
          "color": "blue",
          "size": 10
         },
         "mode": "markers",
         "name": "GM (r=-0.39, p=0.5%)",
         "type": "scatter",
         "x": [
          29,
          30,
          29,
          39,
          28,
          49,
          25,
          34,
          37,
          26,
          25,
          24,
          32,
          31,
          27,
          31,
          29,
          28,
          29,
          30,
          33,
          59,
          29,
          24,
          21,
          26,
          33,
          24,
          23,
          30,
          23,
          25,
          34,
          48,
          23,
          48,
          50,
          53,
          31,
          29,
          49,
          47,
          36,
          67,
          29,
          51,
          33,
          30,
          23,
          38
         ],
         "y": [
          0.14301571902456858,
          0.06069262383315453,
          0.10198819340276229,
          0.14206175858048128,
          0.16122844592363356,
          0.18171550117877722,
          0.21540879557760065,
          0.21122370893010808,
          0.16042060243739242,
          0.23784033739151014,
          0.21577301395702014,
          0.07560842415419568,
          0.1517705801096311,
          0.18041347536316732,
          0.0993429205342867,
          0.3624494794028173,
          0.2077659722766356,
          0.28378018382039477,
          0.2879457327842642,
          0.2696352266967518,
          0.14086789844784423,
          0.1799036736533755,
          0.2622897328770315,
          0.253870357660639,
          0.18136394157950217,
          0.2753746358286108,
          0.09196392323435633,
          0.18103952042195362,
          0.2317340003510779,
          0.26274374439821296,
          0.22350309608341468,
          0.21281637467547795,
          0.1472747773991433,
          0.09155826347704397,
          0.19040321253498957,
          0.15900930345999167,
          0.0977342249752906,
          0.18399574651347805,
          0.23930801322196013,
          0.2454235386289281,
          0.23524065758388862,
          0.23929703778872813,
          0.15808514681485206,
          0.360389767403781,
          0.19414349965562142,
          0.15704744297365583,
          0.16324939308834557,
          0.20037730890150762,
          0.1260933864684384,
          0.20890383962696416
         ]
        },
        {
         "marker": {
          "color": "red",
          "size": 10
         },
         "mode": "markers",
         "name": "WM (r=-0.32, p=2.2%)",
         "type": "scatter",
         "x": [
          29,
          30,
          29,
          39,
          28,
          49,
          25,
          34,
          37,
          26,
          25,
          24,
          32,
          31,
          27,
          31,
          29,
          28,
          29,
          30,
          33,
          59,
          29,
          24,
          21,
          26,
          33,
          24,
          23,
          30,
          23,
          25,
          34,
          48,
          23,
          48,
          50,
          53,
          31,
          29,
          49,
          47,
          36,
          67,
          29,
          51,
          33,
          30,
          23,
          38
         ],
         "y": [
          0.13324991874151865,
          0.06044767358349183,
          0.09038137197759809,
          0.1465671570634336,
          0.16495518345055357,
          0.18085769829099774,
          0.21414677502891868,
          0.2071557002483628,
          0.14373300482386314,
          0.22508818931085778,
          0.21087993531289007,
          0.07817201180264574,
          0.14294240062707234,
          0.1703659352019999,
          0.11276426875791254,
          0.38021779316621723,
          0.1846351011414901,
          0.2699950900330648,
          0.24773749556184554,
          0.26171862074628666,
          0.13219871931105606,
          0.1683080409855856,
          0.22949529957620027,
          0.2601945862714774,
          0.17308517453033517,
          0.26116986691888655,
          0.0852414906802294,
          0.18711390342230258,
          0.2394291613641002,
          0.24667680818626092,
          0.19311095593238686,
          0.1993745635552543,
          0.15818223625076583,
          0.09319634822491901,
          0.22747418445784,
          0.14721245732031424,
          0.10788678192138103,
          0.18340109878135458,
          0.23226314976198373,
          0.23158881434743658,
          0.23253432242471728,
          0.23472671469706557,
          0.14788132730461204,
          0.3623382817954742,
          0.17518117522006343,
          0.1437913340967598,
          0.1533447441413904,
          0.18791182094744144,
          0.12242447516175649,
          0.19840582495637074
         ]
        },
        {
         "marker": {
          "color": "blue",
          "size": 10
         },
         "mode": "lines",
         "name": "GM fit",
         "showlegend": false,
         "type": "scatter",
         "x": [
          20,
          21,
          22,
          23,
          24,
          25,
          26,
          27,
          28,
          29,
          30,
          31,
          32,
          33,
          34,
          35,
          36,
          37,
          38,
          39,
          40,
          41,
          42,
          43,
          44,
          45,
          46,
          47,
          48,
          49,
          50,
          51,
          52,
          53,
          54,
          55,
          56,
          57,
          58,
          59,
          60,
          61,
          62,
          63,
          64,
          65,
          66,
          67,
          68,
          69
         ],
         "y": [
          0.19201918163166362,
          0.1920839790964567,
          0.19214877656124976,
          0.1922135740260428,
          0.19227837149083588,
          0.19234316895562895,
          0.19240796642042202,
          0.19247276388521506,
          0.19253756135000813,
          0.1926023588148012,
          0.19266715627959427,
          0.19273195374438734,
          0.19279675120918038,
          0.19286154867397345,
          0.19292634613876652,
          0.1929911436035596,
          0.19305594106835264,
          0.1931207385331457,
          0.19318553599793878,
          0.19325033346273185,
          0.1933151309275249,
          0.19337992839231796,
          0.19344472585711103,
          0.1935095233219041,
          0.19357432078669715,
          0.19363911825149022,
          0.1937039157162833,
          0.19376871318107636,
          0.1938335106458694,
          0.19389830811066247,
          0.19396310557545554,
          0.1940279030402486,
          0.19409270050504165,
          0.19415749796983472,
          0.1942222954346278,
          0.19428709289942087,
          0.1943518903642139,
          0.19441668782900698,
          0.19448148529380005,
          0.19454628275859312,
          0.1946110802233862,
          0.19467587768817923,
          0.1947406751529723,
          0.19480547261776537,
          0.19487027008255844,
          0.1949350675473515,
          0.19499986501214456,
          0.19506466247693763,
          0.1951294599417307,
          0.19519425740652374
         ]
        },
        {
         "marker": {
          "color": "red",
          "size": 10
         },
         "mode": "lines",
         "name": "WM fit",
         "showlegend": false,
         "type": "scatter",
         "x": [
          20,
          21,
          22,
          23,
          24,
          25,
          26,
          27,
          28,
          29,
          30,
          31,
          32,
          33,
          34,
          35,
          36,
          37,
          38,
          39,
          40,
          41,
          42,
          43,
          44,
          45,
          46,
          47,
          48,
          49,
          50,
          51,
          52,
          53,
          54,
          55,
          56,
          57,
          58,
          59,
          60,
          61,
          62,
          63,
          64,
          65,
          66,
          67,
          68,
          69
         ],
         "y": [
          0.1849875186775999,
          0.18512228968132494,
          0.18525706068505,
          0.18539183168877502,
          0.18552660269250004,
          0.18566137369622507,
          0.1857961446999501,
          0.18593091570367512,
          0.18606568670740017,
          0.1862004577111252,
          0.18633522871485023,
          0.18646999971857525,
          0.18660477072230028,
          0.1867395417260253,
          0.18687431272975036,
          0.18700908373347538,
          0.1871438547372004,
          0.18727862574092544,
          0.18741339674465046,
          0.1875481677483755,
          0.18768293875210054,
          0.18781770975582557,
          0.1879524807595506,
          0.18808725176327562,
          0.18822202276700065,
          0.18835679377072567,
          0.18849156477445073,
          0.18862633577817575,
          0.18876110678190078,
          0.1888958777856258,
          0.18903064878935083,
          0.18916541979307586,
          0.1893001907968009,
          0.18943496180052594,
          0.18956973280425096,
          0.189704503807976,
          0.18983927481170101,
          0.18997404581542604,
          0.1901088168191511,
          0.19024358782287612,
          0.19037835882660115,
          0.19051312983032617,
          0.1906479008340512,
          0.19078267183777622,
          0.19091744284150125,
          0.1910522138452263,
          0.19118698484895133,
          0.19132175585267636,
          0.19145652685640138,
          0.1915912978601264
         ]
        }
       ],
       "layout": {
        "font": {
         "size": 15
        },
        "legend": {
         "font": {
          "size": 15
         },
         "x": 0.8,
         "xanchor": "right",
         "yanchor": "top"
        },
        "plot_bgcolor": "white",
        "template": {
         "data": {
          "bar": [
           {
            "error_x": {
             "color": "#2a3f5f"
            },
            "error_y": {
             "color": "#2a3f5f"
            },
            "marker": {
             "line": {
              "color": "#E5ECF6",
              "width": 0.5
             },
             "pattern": {
              "fillmode": "overlay",
              "size": 10,
              "solidity": 0.2
             }
            },
            "type": "bar"
           }
          ],
          "barpolar": [
           {
            "marker": {
             "line": {
              "color": "#E5ECF6",
              "width": 0.5
             },
             "pattern": {
              "fillmode": "overlay",
              "size": 10,
              "solidity": 0.2
             }
            },
            "type": "barpolar"
           }
          ],
          "carpet": [
           {
            "aaxis": {
             "endlinecolor": "#2a3f5f",
             "gridcolor": "white",
             "linecolor": "white",
             "minorgridcolor": "white",
             "startlinecolor": "#2a3f5f"
            },
            "baxis": {
             "endlinecolor": "#2a3f5f",
             "gridcolor": "white",
             "linecolor": "white",
             "minorgridcolor": "white",
             "startlinecolor": "#2a3f5f"
            },
            "type": "carpet"
           }
          ],
          "choropleth": [
           {
            "colorbar": {
             "outlinewidth": 0,
             "ticks": ""
            },
            "type": "choropleth"
           }
          ],
          "contour": [
           {
            "colorbar": {
             "outlinewidth": 0,
             "ticks": ""
            },
            "colorscale": [
             [
              0,
              "#0d0887"
             ],
             [
              0.1111111111111111,
              "#46039f"
             ],
             [
              0.2222222222222222,
              "#7201a8"
             ],
             [
              0.3333333333333333,
              "#9c179e"
             ],
             [
              0.4444444444444444,
              "#bd3786"
             ],
             [
              0.5555555555555556,
              "#d8576b"
             ],
             [
              0.6666666666666666,
              "#ed7953"
             ],
             [
              0.7777777777777778,
              "#fb9f3a"
             ],
             [
              0.8888888888888888,
              "#fdca26"
             ],
             [
              1,
              "#f0f921"
             ]
            ],
            "type": "contour"
           }
          ],
          "contourcarpet": [
           {
            "colorbar": {
             "outlinewidth": 0,
             "ticks": ""
            },
            "type": "contourcarpet"
           }
          ],
          "heatmap": [
           {
            "colorbar": {
             "outlinewidth": 0,
             "ticks": ""
            },
            "colorscale": [
             [
              0,
              "#0d0887"
             ],
             [
              0.1111111111111111,
              "#46039f"
             ],
             [
              0.2222222222222222,
              "#7201a8"
             ],
             [
              0.3333333333333333,
              "#9c179e"
             ],
             [
              0.4444444444444444,
              "#bd3786"
             ],
             [
              0.5555555555555556,
              "#d8576b"
             ],
             [
              0.6666666666666666,
              "#ed7953"
             ],
             [
              0.7777777777777778,
              "#fb9f3a"
             ],
             [
              0.8888888888888888,
              "#fdca26"
             ],
             [
              1,
              "#f0f921"
             ]
            ],
            "type": "heatmap"
           }
          ],
          "heatmapgl": [
           {
            "colorbar": {
             "outlinewidth": 0,
             "ticks": ""
            },
            "colorscale": [
             [
              0,
              "#0d0887"
             ],
             [
              0.1111111111111111,
              "#46039f"
             ],
             [
              0.2222222222222222,
              "#7201a8"
             ],
             [
              0.3333333333333333,
              "#9c179e"
             ],
             [
              0.4444444444444444,
              "#bd3786"
             ],
             [
              0.5555555555555556,
              "#d8576b"
             ],
             [
              0.6666666666666666,
              "#ed7953"
             ],
             [
              0.7777777777777778,
              "#fb9f3a"
             ],
             [
              0.8888888888888888,
              "#fdca26"
             ],
             [
              1,
              "#f0f921"
             ]
            ],
            "type": "heatmapgl"
           }
          ],
          "histogram": [
           {
            "marker": {
             "pattern": {
              "fillmode": "overlay",
              "size": 10,
              "solidity": 0.2
             }
            },
            "type": "histogram"
           }
          ],
          "histogram2d": [
           {
            "colorbar": {
             "outlinewidth": 0,
             "ticks": ""
            },
            "colorscale": [
             [
              0,
              "#0d0887"
             ],
             [
              0.1111111111111111,
              "#46039f"
             ],
             [
              0.2222222222222222,
              "#7201a8"
             ],
             [
              0.3333333333333333,
              "#9c179e"
             ],
             [
              0.4444444444444444,
              "#bd3786"
             ],
             [
              0.5555555555555556,
              "#d8576b"
             ],
             [
              0.6666666666666666,
              "#ed7953"
             ],
             [
              0.7777777777777778,
              "#fb9f3a"
             ],
             [
              0.8888888888888888,
              "#fdca26"
             ],
             [
              1,
              "#f0f921"
             ]
            ],
            "type": "histogram2d"
           }
          ],
          "histogram2dcontour": [
           {
            "colorbar": {
             "outlinewidth": 0,
             "ticks": ""
            },
            "colorscale": [
             [
              0,
              "#0d0887"
             ],
             [
              0.1111111111111111,
              "#46039f"
             ],
             [
              0.2222222222222222,
              "#7201a8"
             ],
             [
              0.3333333333333333,
              "#9c179e"
             ],
             [
              0.4444444444444444,
              "#bd3786"
             ],
             [
              0.5555555555555556,
              "#d8576b"
             ],
             [
              0.6666666666666666,
              "#ed7953"
             ],
             [
              0.7777777777777778,
              "#fb9f3a"
             ],
             [
              0.8888888888888888,
              "#fdca26"
             ],
             [
              1,
              "#f0f921"
             ]
            ],
            "type": "histogram2dcontour"
           }
          ],
          "mesh3d": [
           {
            "colorbar": {
             "outlinewidth": 0,
             "ticks": ""
            },
            "type": "mesh3d"
           }
          ],
          "parcoords": [
           {
            "line": {
             "colorbar": {
              "outlinewidth": 0,
              "ticks": ""
             }
            },
            "type": "parcoords"
           }
          ],
          "pie": [
           {
            "automargin": true,
            "type": "pie"
           }
          ],
          "scatter": [
           {
            "fillpattern": {
             "fillmode": "overlay",
             "size": 10,
             "solidity": 0.2
            },
            "type": "scatter"
           }
          ],
          "scatter3d": [
           {
            "line": {
             "colorbar": {
              "outlinewidth": 0,
              "ticks": ""
             }
            },
            "marker": {
             "colorbar": {
              "outlinewidth": 0,
              "ticks": ""
             }
            },
            "type": "scatter3d"
           }
          ],
          "scattercarpet": [
           {
            "marker": {
             "colorbar": {
              "outlinewidth": 0,
              "ticks": ""
             }
            },
            "type": "scattercarpet"
           }
          ],
          "scattergeo": [
           {
            "marker": {
             "colorbar": {
              "outlinewidth": 0,
              "ticks": ""
             }
            },
            "type": "scattergeo"
           }
          ],
          "scattergl": [
           {
            "marker": {
             "colorbar": {
              "outlinewidth": 0,
              "ticks": ""
             }
            },
            "type": "scattergl"
           }
          ],
          "scattermapbox": [
           {
            "marker": {
             "colorbar": {
              "outlinewidth": 0,
              "ticks": ""
             }
            },
            "type": "scattermapbox"
           }
          ],
          "scatterpolar": [
           {
            "marker": {
             "colorbar": {
              "outlinewidth": 0,
              "ticks": ""
             }
            },
            "type": "scatterpolar"
           }
          ],
          "scatterpolargl": [
           {
            "marker": {
             "colorbar": {
              "outlinewidth": 0,
              "ticks": ""
             }
            },
            "type": "scatterpolargl"
           }
          ],
          "scatterternary": [
           {
            "marker": {
             "colorbar": {
              "outlinewidth": 0,
              "ticks": ""
             }
            },
            "type": "scatterternary"
           }
          ],
          "surface": [
           {
            "colorbar": {
             "outlinewidth": 0,
             "ticks": ""
            },
            "colorscale": [
             [
              0,
              "#0d0887"
             ],
             [
              0.1111111111111111,
              "#46039f"
             ],
             [
              0.2222222222222222,
              "#7201a8"
             ],
             [
              0.3333333333333333,
              "#9c179e"
             ],
             [
              0.4444444444444444,
              "#bd3786"
             ],
             [
              0.5555555555555556,
              "#d8576b"
             ],
             [
              0.6666666666666666,
              "#ed7953"
             ],
             [
              0.7777777777777778,
              "#fb9f3a"
             ],
             [
              0.8888888888888888,
              "#fdca26"
             ],
             [
              1,
              "#f0f921"
             ]
            ],
            "type": "surface"
           }
          ],
          "table": [
           {
            "cells": {
             "fill": {
              "color": "#EBF0F8"
             },
             "line": {
              "color": "white"
             }
            },
            "header": {
             "fill": {
              "color": "#C8D4E3"
             },
             "line": {
              "color": "white"
             }
            },
            "type": "table"
           }
          ]
         },
         "layout": {
          "annotationdefaults": {
           "arrowcolor": "#2a3f5f",
           "arrowhead": 0,
           "arrowwidth": 1
          },
          "autotypenumbers": "strict",
          "coloraxis": {
           "colorbar": {
            "outlinewidth": 0,
            "ticks": ""
           }
          },
          "colorscale": {
           "diverging": [
            [
             0,
             "#8e0152"
            ],
            [
             0.1,
             "#c51b7d"
            ],
            [
             0.2,
             "#de77ae"
            ],
            [
             0.3,
             "#f1b6da"
            ],
            [
             0.4,
             "#fde0ef"
            ],
            [
             0.5,
             "#f7f7f7"
            ],
            [
             0.6,
             "#e6f5d0"
            ],
            [
             0.7,
             "#b8e186"
            ],
            [
             0.8,
             "#7fbc41"
            ],
            [
             0.9,
             "#4d9221"
            ],
            [
             1,
             "#276419"
            ]
           ],
           "sequential": [
            [
             0,
             "#0d0887"
            ],
            [
             0.1111111111111111,
             "#46039f"
            ],
            [
             0.2222222222222222,
             "#7201a8"
            ],
            [
             0.3333333333333333,
             "#9c179e"
            ],
            [
             0.4444444444444444,
             "#bd3786"
            ],
            [
             0.5555555555555556,
             "#d8576b"
            ],
            [
             0.6666666666666666,
             "#ed7953"
            ],
            [
             0.7777777777777778,
             "#fb9f3a"
            ],
            [
             0.8888888888888888,
             "#fdca26"
            ],
            [
             1,
             "#f0f921"
            ]
           ],
           "sequentialminus": [
            [
             0,
             "#0d0887"
            ],
            [
             0.1111111111111111,
             "#46039f"
            ],
            [
             0.2222222222222222,
             "#7201a8"
            ],
            [
             0.3333333333333333,
             "#9c179e"
            ],
            [
             0.4444444444444444,
             "#bd3786"
            ],
            [
             0.5555555555555556,
             "#d8576b"
            ],
            [
             0.6666666666666666,
             "#ed7953"
            ],
            [
             0.7777777777777778,
             "#fb9f3a"
            ],
            [
             0.8888888888888888,
             "#fdca26"
            ],
            [
             1,
             "#f0f921"
            ]
           ]
          },
          "colorway": [
           "#636efa",
           "#EF553B",
           "#00cc96",
           "#ab63fa",
           "#FFA15A",
           "#19d3f3",
           "#FF6692",
           "#B6E880",
           "#FF97FF",
           "#FECB52"
          ],
          "font": {
           "color": "#2a3f5f"
          },
          "geo": {
           "bgcolor": "white",
           "lakecolor": "white",
           "landcolor": "#E5ECF6",
           "showlakes": true,
           "showland": true,
           "subunitcolor": "white"
          },
          "hoverlabel": {
           "align": "left"
          },
          "hovermode": "closest",
          "mapbox": {
           "style": "light"
          },
          "paper_bgcolor": "white",
          "plot_bgcolor": "#E5ECF6",
          "polar": {
           "angularaxis": {
            "gridcolor": "white",
            "linecolor": "white",
            "ticks": ""
           },
           "bgcolor": "#E5ECF6",
           "radialaxis": {
            "gridcolor": "white",
            "linecolor": "white",
            "ticks": ""
           }
          },
          "scene": {
           "xaxis": {
            "backgroundcolor": "#E5ECF6",
            "gridcolor": "white",
            "gridwidth": 2,
            "linecolor": "white",
            "showbackground": true,
            "ticks": "",
            "zerolinecolor": "white"
           },
           "yaxis": {
            "backgroundcolor": "#E5ECF6",
            "gridcolor": "white",
            "gridwidth": 2,
            "linecolor": "white",
            "showbackground": true,
            "ticks": "",
            "zerolinecolor": "white"
           },
           "zaxis": {
            "backgroundcolor": "#E5ECF6",
            "gridcolor": "white",
            "gridwidth": 2,
            "linecolor": "white",
            "showbackground": true,
            "ticks": "",
            "zerolinecolor": "white"
           }
          },
          "shapedefaults": {
           "line": {
            "color": "#2a3f5f"
           }
          },
          "ternary": {
           "aaxis": {
            "gridcolor": "white",
            "linecolor": "white",
            "ticks": ""
           },
           "baxis": {
            "gridcolor": "white",
            "linecolor": "white",
            "ticks": ""
           },
           "bgcolor": "#E5ECF6",
           "caxis": {
            "gridcolor": "white",
            "linecolor": "white",
            "ticks": ""
           }
          },
          "title": {
           "x": 0.05
          },
          "xaxis": {
           "automargin": true,
           "gridcolor": "white",
           "linecolor": "white",
           "ticks": "",
           "title": {
            "standoff": 15
           },
           "zerolinecolor": "white",
           "zerolinewidth": 2
          },
          "yaxis": {
           "automargin": true,
           "gridcolor": "white",
           "linecolor": "white",
           "ticks": "",
           "title": {
            "standoff": 15
           },
           "zerolinecolor": "white",
           "zerolinewidth": 2
          }
         }
        },
        "xaxis": {
         "title": {
          "text": "age (years)"
         }
        },
        "yaxis": {
         "title": {
          "text": "CVR (%BOLD/mmHg)"
         }
        }
       }
      },
      "text/html": [
       "<div>                            <div id=\"baa1e273-9d4a-4722-8d6b-39f6d3bec226\" class=\"plotly-graph-div\" style=\"height:525px; width:100%;\"></div>            <script type=\"text/javascript\">                require([\"plotly\"], function(Plotly) {                    window.PLOTLYENV=window.PLOTLYENV || {};                                    if (document.getElementById(\"baa1e273-9d4a-4722-8d6b-39f6d3bec226\")) {                    Plotly.newPlot(                        \"baa1e273-9d4a-4722-8d6b-39f6d3bec226\",                        [{\"marker\":{\"color\":\"blue\",\"size\":10},\"mode\":\"markers\",\"name\":\"GM (r=-0.39, p=0.5%)\",\"x\":[29,30,29,39,28,49,25,34,37,26,25,24,32,31,27,31,29,28,29,30,33,59,29,24,21,26,33,24,23,30,23,25,34,48,23,48,50,53,31,29,49,47,36,67,29,51,33,30,23,38],\"y\":[0.14301571902456858,0.06069262383315453,0.10198819340276229,0.14206175858048128,0.16122844592363356,0.18171550117877722,0.21540879557760065,0.21122370893010808,0.16042060243739242,0.23784033739151014,0.21577301395702014,0.07560842415419568,0.1517705801096311,0.18041347536316732,0.0993429205342867,0.3624494794028173,0.2077659722766356,0.28378018382039477,0.2879457327842642,0.2696352266967518,0.14086789844784423,0.1799036736533755,0.2622897328770315,0.253870357660639,0.18136394157950217,0.2753746358286108,0.09196392323435633,0.18103952042195362,0.2317340003510779,0.26274374439821296,0.22350309608341468,0.21281637467547795,0.1472747773991433,0.09155826347704397,0.19040321253498957,0.15900930345999167,0.0977342249752906,0.18399574651347805,0.23930801322196013,0.2454235386289281,0.23524065758388862,0.23929703778872813,0.15808514681485206,0.360389767403781,0.19414349965562142,0.15704744297365583,0.16324939308834557,0.20037730890150762,0.1260933864684384,0.20890383962696416],\"type\":\"scatter\"},{\"marker\":{\"color\":\"red\",\"size\":10},\"mode\":\"markers\",\"name\":\"WM (r=-0.32, p=2.2%)\",\"x\":[29,30,29,39,28,49,25,34,37,26,25,24,32,31,27,31,29,28,29,30,33,59,29,24,21,26,33,24,23,30,23,25,34,48,23,48,50,53,31,29,49,47,36,67,29,51,33,30,23,38],\"y\":[0.13324991874151865,0.06044767358349183,0.09038137197759809,0.1465671570634336,0.16495518345055357,0.18085769829099774,0.21414677502891868,0.2071557002483628,0.14373300482386314,0.22508818931085778,0.21087993531289007,0.07817201180264574,0.14294240062707234,0.1703659352019999,0.11276426875791254,0.38021779316621723,0.1846351011414901,0.2699950900330648,0.24773749556184554,0.26171862074628666,0.13219871931105606,0.1683080409855856,0.22949529957620027,0.2601945862714774,0.17308517453033517,0.26116986691888655,0.0852414906802294,0.18711390342230258,0.2394291613641002,0.24667680818626092,0.19311095593238686,0.1993745635552543,0.15818223625076583,0.09319634822491901,0.22747418445784,0.14721245732031424,0.10788678192138103,0.18340109878135458,0.23226314976198373,0.23158881434743658,0.23253432242471728,0.23472671469706557,0.14788132730461204,0.3623382817954742,0.17518117522006343,0.1437913340967598,0.1533447441413904,0.18791182094744144,0.12242447516175649,0.19840582495637074],\"type\":\"scatter\"},{\"marker\":{\"color\":\"blue\",\"size\":10},\"mode\":\"lines\",\"name\":\"GM fit\",\"showlegend\":false,\"x\":[20,21,22,23,24,25,26,27,28,29,30,31,32,33,34,35,36,37,38,39,40,41,42,43,44,45,46,47,48,49,50,51,52,53,54,55,56,57,58,59,60,61,62,63,64,65,66,67,68,69],\"y\":[0.19201918163166362,0.1920839790964567,0.19214877656124976,0.1922135740260428,0.19227837149083588,0.19234316895562895,0.19240796642042202,0.19247276388521506,0.19253756135000813,0.1926023588148012,0.19266715627959427,0.19273195374438734,0.19279675120918038,0.19286154867397345,0.19292634613876652,0.1929911436035596,0.19305594106835264,0.1931207385331457,0.19318553599793878,0.19325033346273185,0.1933151309275249,0.19337992839231796,0.19344472585711103,0.1935095233219041,0.19357432078669715,0.19363911825149022,0.1937039157162833,0.19376871318107636,0.1938335106458694,0.19389830811066247,0.19396310557545554,0.1940279030402486,0.19409270050504165,0.19415749796983472,0.1942222954346278,0.19428709289942087,0.1943518903642139,0.19441668782900698,0.19448148529380005,0.19454628275859312,0.1946110802233862,0.19467587768817923,0.1947406751529723,0.19480547261776537,0.19487027008255844,0.1949350675473515,0.19499986501214456,0.19506466247693763,0.1951294599417307,0.19519425740652374],\"type\":\"scatter\"},{\"marker\":{\"color\":\"red\",\"size\":10},\"mode\":\"lines\",\"name\":\"WM fit\",\"showlegend\":false,\"x\":[20,21,22,23,24,25,26,27,28,29,30,31,32,33,34,35,36,37,38,39,40,41,42,43,44,45,46,47,48,49,50,51,52,53,54,55,56,57,58,59,60,61,62,63,64,65,66,67,68,69],\"y\":[0.1849875186775999,0.18512228968132494,0.18525706068505,0.18539183168877502,0.18552660269250004,0.18566137369622507,0.1857961446999501,0.18593091570367512,0.18606568670740017,0.1862004577111252,0.18633522871485023,0.18646999971857525,0.18660477072230028,0.1867395417260253,0.18687431272975036,0.18700908373347538,0.1871438547372004,0.18727862574092544,0.18741339674465046,0.1875481677483755,0.18768293875210054,0.18781770975582557,0.1879524807595506,0.18808725176327562,0.18822202276700065,0.18835679377072567,0.18849156477445073,0.18862633577817575,0.18876110678190078,0.1888958777856258,0.18903064878935083,0.18916541979307586,0.1893001907968009,0.18943496180052594,0.18956973280425096,0.189704503807976,0.18983927481170101,0.18997404581542604,0.1901088168191511,0.19024358782287612,0.19037835882660115,0.19051312983032617,0.1906479008340512,0.19078267183777622,0.19091744284150125,0.1910522138452263,0.19118698484895133,0.19132175585267636,0.19145652685640138,0.1915912978601264],\"type\":\"scatter\"}],                        {\"template\":{\"data\":{\"histogram2dcontour\":[{\"type\":\"histogram2dcontour\",\"colorbar\":{\"outlinewidth\":0,\"ticks\":\"\"},\"colorscale\":[[0.0,\"#0d0887\"],[0.1111111111111111,\"#46039f\"],[0.2222222222222222,\"#7201a8\"],[0.3333333333333333,\"#9c179e\"],[0.4444444444444444,\"#bd3786\"],[0.5555555555555556,\"#d8576b\"],[0.6666666666666666,\"#ed7953\"],[0.7777777777777778,\"#fb9f3a\"],[0.8888888888888888,\"#fdca26\"],[1.0,\"#f0f921\"]]}],\"choropleth\":[{\"type\":\"choropleth\",\"colorbar\":{\"outlinewidth\":0,\"ticks\":\"\"}}],\"histogram2d\":[{\"type\":\"histogram2d\",\"colorbar\":{\"outlinewidth\":0,\"ticks\":\"\"},\"colorscale\":[[0.0,\"#0d0887\"],[0.1111111111111111,\"#46039f\"],[0.2222222222222222,\"#7201a8\"],[0.3333333333333333,\"#9c179e\"],[0.4444444444444444,\"#bd3786\"],[0.5555555555555556,\"#d8576b\"],[0.6666666666666666,\"#ed7953\"],[0.7777777777777778,\"#fb9f3a\"],[0.8888888888888888,\"#fdca26\"],[1.0,\"#f0f921\"]]}],\"heatmap\":[{\"type\":\"heatmap\",\"colorbar\":{\"outlinewidth\":0,\"ticks\":\"\"},\"colorscale\":[[0.0,\"#0d0887\"],[0.1111111111111111,\"#46039f\"],[0.2222222222222222,\"#7201a8\"],[0.3333333333333333,\"#9c179e\"],[0.4444444444444444,\"#bd3786\"],[0.5555555555555556,\"#d8576b\"],[0.6666666666666666,\"#ed7953\"],[0.7777777777777778,\"#fb9f3a\"],[0.8888888888888888,\"#fdca26\"],[1.0,\"#f0f921\"]]}],\"heatmapgl\":[{\"type\":\"heatmapgl\",\"colorbar\":{\"outlinewidth\":0,\"ticks\":\"\"},\"colorscale\":[[0.0,\"#0d0887\"],[0.1111111111111111,\"#46039f\"],[0.2222222222222222,\"#7201a8\"],[0.3333333333333333,\"#9c179e\"],[0.4444444444444444,\"#bd3786\"],[0.5555555555555556,\"#d8576b\"],[0.6666666666666666,\"#ed7953\"],[0.7777777777777778,\"#fb9f3a\"],[0.8888888888888888,\"#fdca26\"],[1.0,\"#f0f921\"]]}],\"contourcarpet\":[{\"type\":\"contourcarpet\",\"colorbar\":{\"outlinewidth\":0,\"ticks\":\"\"}}],\"contour\":[{\"type\":\"contour\",\"colorbar\":{\"outlinewidth\":0,\"ticks\":\"\"},\"colorscale\":[[0.0,\"#0d0887\"],[0.1111111111111111,\"#46039f\"],[0.2222222222222222,\"#7201a8\"],[0.3333333333333333,\"#9c179e\"],[0.4444444444444444,\"#bd3786\"],[0.5555555555555556,\"#d8576b\"],[0.6666666666666666,\"#ed7953\"],[0.7777777777777778,\"#fb9f3a\"],[0.8888888888888888,\"#fdca26\"],[1.0,\"#f0f921\"]]}],\"surface\":[{\"type\":\"surface\",\"colorbar\":{\"outlinewidth\":0,\"ticks\":\"\"},\"colorscale\":[[0.0,\"#0d0887\"],[0.1111111111111111,\"#46039f\"],[0.2222222222222222,\"#7201a8\"],[0.3333333333333333,\"#9c179e\"],[0.4444444444444444,\"#bd3786\"],[0.5555555555555556,\"#d8576b\"],[0.6666666666666666,\"#ed7953\"],[0.7777777777777778,\"#fb9f3a\"],[0.8888888888888888,\"#fdca26\"],[1.0,\"#f0f921\"]]}],\"mesh3d\":[{\"type\":\"mesh3d\",\"colorbar\":{\"outlinewidth\":0,\"ticks\":\"\"}}],\"scatter\":[{\"fillpattern\":{\"fillmode\":\"overlay\",\"size\":10,\"solidity\":0.2},\"type\":\"scatter\"}],\"parcoords\":[{\"type\":\"parcoords\",\"line\":{\"colorbar\":{\"outlinewidth\":0,\"ticks\":\"\"}}}],\"scatterpolargl\":[{\"type\":\"scatterpolargl\",\"marker\":{\"colorbar\":{\"outlinewidth\":0,\"ticks\":\"\"}}}],\"bar\":[{\"error_x\":{\"color\":\"#2a3f5f\"},\"error_y\":{\"color\":\"#2a3f5f\"},\"marker\":{\"line\":{\"color\":\"#E5ECF6\",\"width\":0.5},\"pattern\":{\"fillmode\":\"overlay\",\"size\":10,\"solidity\":0.2}},\"type\":\"bar\"}],\"scattergeo\":[{\"type\":\"scattergeo\",\"marker\":{\"colorbar\":{\"outlinewidth\":0,\"ticks\":\"\"}}}],\"scatterpolar\":[{\"type\":\"scatterpolar\",\"marker\":{\"colorbar\":{\"outlinewidth\":0,\"ticks\":\"\"}}}],\"histogram\":[{\"marker\":{\"pattern\":{\"fillmode\":\"overlay\",\"size\":10,\"solidity\":0.2}},\"type\":\"histogram\"}],\"scattergl\":[{\"type\":\"scattergl\",\"marker\":{\"colorbar\":{\"outlinewidth\":0,\"ticks\":\"\"}}}],\"scatter3d\":[{\"type\":\"scatter3d\",\"line\":{\"colorbar\":{\"outlinewidth\":0,\"ticks\":\"\"}},\"marker\":{\"colorbar\":{\"outlinewidth\":0,\"ticks\":\"\"}}}],\"scattermapbox\":[{\"type\":\"scattermapbox\",\"marker\":{\"colorbar\":{\"outlinewidth\":0,\"ticks\":\"\"}}}],\"scatterternary\":[{\"type\":\"scatterternary\",\"marker\":{\"colorbar\":{\"outlinewidth\":0,\"ticks\":\"\"}}}],\"scattercarpet\":[{\"type\":\"scattercarpet\",\"marker\":{\"colorbar\":{\"outlinewidth\":0,\"ticks\":\"\"}}}],\"carpet\":[{\"aaxis\":{\"endlinecolor\":\"#2a3f5f\",\"gridcolor\":\"white\",\"linecolor\":\"white\",\"minorgridcolor\":\"white\",\"startlinecolor\":\"#2a3f5f\"},\"baxis\":{\"endlinecolor\":\"#2a3f5f\",\"gridcolor\":\"white\",\"linecolor\":\"white\",\"minorgridcolor\":\"white\",\"startlinecolor\":\"#2a3f5f\"},\"type\":\"carpet\"}],\"table\":[{\"cells\":{\"fill\":{\"color\":\"#EBF0F8\"},\"line\":{\"color\":\"white\"}},\"header\":{\"fill\":{\"color\":\"#C8D4E3\"},\"line\":{\"color\":\"white\"}},\"type\":\"table\"}],\"barpolar\":[{\"marker\":{\"line\":{\"color\":\"#E5ECF6\",\"width\":0.5},\"pattern\":{\"fillmode\":\"overlay\",\"size\":10,\"solidity\":0.2}},\"type\":\"barpolar\"}],\"pie\":[{\"automargin\":true,\"type\":\"pie\"}]},\"layout\":{\"autotypenumbers\":\"strict\",\"colorway\":[\"#636efa\",\"#EF553B\",\"#00cc96\",\"#ab63fa\",\"#FFA15A\",\"#19d3f3\",\"#FF6692\",\"#B6E880\",\"#FF97FF\",\"#FECB52\"],\"font\":{\"color\":\"#2a3f5f\"},\"hovermode\":\"closest\",\"hoverlabel\":{\"align\":\"left\"},\"paper_bgcolor\":\"white\",\"plot_bgcolor\":\"#E5ECF6\",\"polar\":{\"bgcolor\":\"#E5ECF6\",\"angularaxis\":{\"gridcolor\":\"white\",\"linecolor\":\"white\",\"ticks\":\"\"},\"radialaxis\":{\"gridcolor\":\"white\",\"linecolor\":\"white\",\"ticks\":\"\"}},\"ternary\":{\"bgcolor\":\"#E5ECF6\",\"aaxis\":{\"gridcolor\":\"white\",\"linecolor\":\"white\",\"ticks\":\"\"},\"baxis\":{\"gridcolor\":\"white\",\"linecolor\":\"white\",\"ticks\":\"\"},\"caxis\":{\"gridcolor\":\"white\",\"linecolor\":\"white\",\"ticks\":\"\"}},\"coloraxis\":{\"colorbar\":{\"outlinewidth\":0,\"ticks\":\"\"}},\"colorscale\":{\"sequential\":[[0.0,\"#0d0887\"],[0.1111111111111111,\"#46039f\"],[0.2222222222222222,\"#7201a8\"],[0.3333333333333333,\"#9c179e\"],[0.4444444444444444,\"#bd3786\"],[0.5555555555555556,\"#d8576b\"],[0.6666666666666666,\"#ed7953\"],[0.7777777777777778,\"#fb9f3a\"],[0.8888888888888888,\"#fdca26\"],[1.0,\"#f0f921\"]],\"sequentialminus\":[[0.0,\"#0d0887\"],[0.1111111111111111,\"#46039f\"],[0.2222222222222222,\"#7201a8\"],[0.3333333333333333,\"#9c179e\"],[0.4444444444444444,\"#bd3786\"],[0.5555555555555556,\"#d8576b\"],[0.6666666666666666,\"#ed7953\"],[0.7777777777777778,\"#fb9f3a\"],[0.8888888888888888,\"#fdca26\"],[1.0,\"#f0f921\"]],\"diverging\":[[0,\"#8e0152\"],[0.1,\"#c51b7d\"],[0.2,\"#de77ae\"],[0.3,\"#f1b6da\"],[0.4,\"#fde0ef\"],[0.5,\"#f7f7f7\"],[0.6,\"#e6f5d0\"],[0.7,\"#b8e186\"],[0.8,\"#7fbc41\"],[0.9,\"#4d9221\"],[1,\"#276419\"]]},\"xaxis\":{\"gridcolor\":\"white\",\"linecolor\":\"white\",\"ticks\":\"\",\"title\":{\"standoff\":15},\"zerolinecolor\":\"white\",\"automargin\":true,\"zerolinewidth\":2},\"yaxis\":{\"gridcolor\":\"white\",\"linecolor\":\"white\",\"ticks\":\"\",\"title\":{\"standoff\":15},\"zerolinecolor\":\"white\",\"automargin\":true,\"zerolinewidth\":2},\"scene\":{\"xaxis\":{\"backgroundcolor\":\"#E5ECF6\",\"gridcolor\":\"white\",\"linecolor\":\"white\",\"showbackground\":true,\"ticks\":\"\",\"zerolinecolor\":\"white\",\"gridwidth\":2},\"yaxis\":{\"backgroundcolor\":\"#E5ECF6\",\"gridcolor\":\"white\",\"linecolor\":\"white\",\"showbackground\":true,\"ticks\":\"\",\"zerolinecolor\":\"white\",\"gridwidth\":2},\"zaxis\":{\"backgroundcolor\":\"#E5ECF6\",\"gridcolor\":\"white\",\"linecolor\":\"white\",\"showbackground\":true,\"ticks\":\"\",\"zerolinecolor\":\"white\",\"gridwidth\":2}},\"shapedefaults\":{\"line\":{\"color\":\"#2a3f5f\"}},\"annotationdefaults\":{\"arrowcolor\":\"#2a3f5f\",\"arrowhead\":0,\"arrowwidth\":1},\"geo\":{\"bgcolor\":\"white\",\"landcolor\":\"#E5ECF6\",\"subunitcolor\":\"white\",\"showland\":true,\"showlakes\":true,\"lakecolor\":\"white\"},\"title\":{\"x\":0.05},\"mapbox\":{\"style\":\"light\"}}},\"font\":{\"size\":15},\"plot_bgcolor\":\"white\",\"yaxis\":{\"title\":{\"text\":\"CVR (%BOLD/mmHg)\"}},\"xaxis\":{\"title\":{\"text\":\"age (years)\"}},\"legend\":{\"font\":{\"size\":15},\"yanchor\":\"top\",\"xanchor\":\"right\",\"x\":0.8}},                        {\"responsive\": true}                    ).then(function(){\n",
       "                            \n",
       "var gd = document.getElementById('baa1e273-9d4a-4722-8d6b-39f6d3bec226');\n",
       "var x = new MutationObserver(function (mutations, observer) {{\n",
       "        var display = window.getComputedStyle(gd).display;\n",
       "        if (!display || display === 'none') {{\n",
       "            console.log([gd, 'removed!']);\n",
       "            Plotly.purge(gd);\n",
       "            observer.disconnect();\n",
       "        }}\n",
       "}});\n",
       "\n",
       "// Listen for the removal of the full notebook cells\n",
       "var notebookContainer = gd.closest('#notebook-container');\n",
       "if (notebookContainer) {{\n",
       "    x.observe(notebookContainer, {childList: true});\n",
       "}}\n",
       "\n",
       "// Listen for the clearing of the current output cell\n",
       "var outputEl = gd.closest('.output');\n",
       "if (outputEl) {{\n",
       "    x.observe(outputEl, {childList: true});\n",
       "}}\n",
       "\n",
       "                        })                };                });            </script>        </div>"
      ]
     },
     "metadata": {},
     "output_type": "display_data"
    }
   ],
   "source": [
    "x_span = np.arange(20,70,1)\n",
    "font = dict(size=15)\n",
    "\n",
    "fig = go.Figure()\n",
    "fig.add_trace(go.Scatter(x=participants_df['age'], y=participants_df['GM'], name='GM (r=-0.39, p=0.5%)', mode='markers', marker=dict(size=10, color='blue')))\n",
    "fig.add_trace(go.Scatter(x=participants_df['age'], y=participants_df['WM'], name='WM (r=-0.32, p=2.2%)', mode='markers', marker=dict(size=10, color='red')))\n",
    "fig.add_trace(go.Scatter(x=x_span, y=stats['GM'].intercept + stats['GM'].slope * x_span, name='GM fit', mode='lines', marker=dict(size=10, color='blue'), showlegend=False))\n",
    "fig.add_trace(go.Scatter(x=x_span, y=stats['WM'].intercept + stats['WM'].slope * x_span, name='WM fit', mode='lines', marker=dict(size=10, color='red'), showlegend=False))\n",
    "fig.update_layout(plot_bgcolor='white', font=font)\n",
    "fig.update_yaxes(title='CVR (%BOLD/mmHg)')\n",
    "fig.update_xaxes(title='age (years)')\n",
    "fig.update_layout(legend=dict(yanchor=\"top\", xanchor=\"right\", x=0.8, font=font))"
   ]
  },
  {
   "cell_type": "markdown",
   "id": "ae1636f1",
   "metadata": {},
   "source": [
    "### Extended Data Figure 4: Delays - age corrected mean"
   ]
  },
  {
   "cell_type": "markdown",
   "id": "9311adb2",
   "metadata": {},
   "source": [
    "For visual purposes it is convenient to set voxels outside the mask to 1:"
   ]
  },
  {
   "cell_type": "code",
   "execution_count": 54,
   "id": "bc6c3c0c",
   "metadata": {},
   "outputs": [],
   "source": [
    "vmax = 1"
   ]
  },
  {
   "cell_type": "code",
   "execution_count": 55,
   "id": "ecddba51",
   "metadata": {},
   "outputs": [],
   "source": [
    "delays_con_display = image.math_img('np.where(mask, img, %s)' % vmax, img=delays_con, mask=mask_intersection)"
   ]
  },
  {
   "cell_type": "code",
   "execution_count": 58,
   "id": "1f61ce68",
   "metadata": {},
   "outputs": [
    {
     "data": {
      "text/plain": [
       "<nilearn.plotting.displays._slicers.ZSlicer at 0x7fd2da893fd0>"
      ]
     },
     "execution_count": 58,
     "metadata": {},
     "output_type": "execute_result"
    },
    {
     "data": {
      "image/png": "[encoded data removed]",
      "text/plain": [
       "<Figure size 2270x230 with 12 Axes>"
      ]
     },
     "metadata": {},
     "output_type": "display_data"
    }
   ],
   "source": [
    "plotting.plot_img(delays_con_display, cmap='black_purple_r', display_mode='z', black_bg=True, cbar_tick_format=\"%0.2g\",  annotate=False, colorbar=True, vmin=-2.5, vmax=vmax, cut_coords=10)"
   ]
  }
 ],
 "metadata": {
  "kernelspec": {
   "display_name": "Python [conda env:cvrmap_paper]",
   "language": "python",
   "name": "conda-env-cvrmap_paper-py"
  },
  "language_info": {
   "codemirror_mode": {
    "name": "ipython",
    "version": 3
   },
   "file_extension": ".py",
   "mimetype": "text/x-python",
   "name": "python",
   "nbconvert_exporter": "python",
   "pygments_lexer": "ipython3",
   "version": "3.11.2"
  }
 },
 "nbformat": 4,
 "nbformat_minor": 5
}
