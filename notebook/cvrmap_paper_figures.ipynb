{
 "cells": [
  {
   "cell_type": "markdown",
   "id": "4a566570",
   "metadata": {},
   "source": [
    "# CVRmap paper: figures"
   ]
  },
  {
   "cell_type": "markdown",
   "id": "f69e87db",
   "metadata": {},
   "source": [
    "## Readme!"
   ]
  },
  {
   "cell_type": "markdown",
   "id": "6e017ca8",
   "metadata": {},
   "source": [
    "The goal of this notebook is to reproduce the figures of the main CVRmap paper.\n",
    "\n",
    "Instructions to run this notebook can be found at `github.com/ln2t/cvrmap-paper`."
   ]
  },
  {
   "cell_type": "markdown",
   "id": "a835cdad",
   "metadata": {},
   "source": [
    "__Beware: you must adapt the following paths for this notebook to work!__ "
   ]
  },
  {
   "cell_type": "code",
   "execution_count": null,
   "id": "79307134",
   "metadata": {},
   "outputs": [],
   "source": [
    "bids_dir = '/path/to/bids/dataset'\n",
    "fmriprep_dir = '/path/to/fmriprep/derivatives'\n",
    "cvrmap_dir = '/path/to/cvrmap/derivatives'"
   ]
  },
  {
   "cell_type": "markdown",
   "id": "8d63dd2c",
   "metadata": {},
   "source": [
    "Side note: another typical set-up is using a root folder as follows, but this is only a recommandation:\n",
    "\n",
    "```\n",
    "root = '/data/dsXXXX'\n",
    "from os.path import join\n",
    "bids_dir = join(root, 'rawdata')\n",
    "cvrmap_dir = join(root, 'derivatives', 'cvrmap')\n",
    "fmriprep_dir = join(root, 'derivatives', 'fmriprep')\n",
    "```"
   ]
  },
  {
   "cell_type": "markdown",
   "id": "f2647b70",
   "metadata": {},
   "source": [
    "## Preliminaries"
   ]
  },
  {
   "cell_type": "markdown",
   "id": "a39114cf",
   "metadata": {},
   "source": [
    "### Imports"
   ]
  },
  {
   "cell_type": "code",
   "execution_count": null,
   "id": "9be14ec9",
   "metadata": {},
   "outputs": [],
   "source": [
    "import pandas as pd\n",
    "import numpy as np\n",
    "import scipy\n",
    "from plotly import graph_objects as go\n",
    "from bids import BIDSLayout as bidslayout\n",
    "import nibabel as nb\n",
    "from nilearn import plotting, masking, image\n",
    "from nilearn.glm.second_level import SecondLevelModel"
   ]
  },
  {
   "cell_type": "markdown",
   "id": "804c2c1e",
   "metadata": {},
   "source": [
    "### Bids load"
   ]
  },
  {
   "cell_type": "code",
   "execution_count": null,
   "id": "7f0e0b21",
   "metadata": {},
   "outputs": [],
   "source": [
    "layout = bidslayout(bids_dir, validate=False)\n",
    "layout.add_derivatives(cvrmap_dir, validate=False)\n",
    "layout.add_derivatives(fmriprep_dir, validate=False)"
   ]
  },
  {
   "cell_type": "markdown",
   "id": "070039b2",
   "metadata": {},
   "source": [
    "### Fetch data"
   ]
  },
  {
   "cell_type": "code",
   "execution_count": null,
   "id": "761a368f",
   "metadata": {},
   "outputs": [],
   "source": [
    "data_filter = dict(return_type='filename', extension='.nii.gz', space='MNI152NLin6Asym')"
   ]
  },
  {
   "cell_type": "markdown",
   "id": "332c9ec0",
   "metadata": {},
   "source": [
    "Get CVR and delay data:"
   ]
  },
  {
   "cell_type": "code",
   "execution_count": null,
   "id": "edcc0a83",
   "metadata": {},
   "outputs": [],
   "source": [
    "cvr_img = []\n",
    "for item in layout.derivatives['cvrmap'].get(**data_filter, suffix='cvr'):\n",
    "    cvr_img.append(image.load_img(item))"
   ]
  },
  {
   "cell_type": "code",
   "execution_count": null,
   "id": "44121970",
   "metadata": {},
   "outputs": [],
   "source": [
    "delays_img = []\n",
    "for item in layout.derivatives['cvrmap'].get(**data_filter, suffix='delay'):\n",
    "    delays_img.append(image.load_img(item))"
   ]
  },
  {
   "cell_type": "markdown",
   "id": "549b93c9",
   "metadata": {},
   "source": [
    "Compute intersection of all masks:"
   ]
  },
  {
   "cell_type": "code",
   "execution_count": null,
   "id": "d49e39f7",
   "metadata": {},
   "outputs": [],
   "source": [
    "brainmask_img = []\n",
    "for item in layout.derivatives['fMRIPrep'].get(**data_filter, res='2', desc='brain', task='gas', suffix='mask'):\n",
    "    brainmask_img.append(image.load_img(item))"
   ]
  },
  {
   "cell_type": "code",
   "execution_count": null,
   "id": "362061d5",
   "metadata": {},
   "outputs": [],
   "source": [
    "mask_intersection = brainmask_img[0]\n",
    "for mask in brainmask_img:\n",
    "    mask_intersection = image.math_img('(img1>0)*img2', img1=mask, img2=mask_intersection)"
   ]
  },
  {
   "cell_type": "markdown",
   "id": "8b7dccd5",
   "metadata": {},
   "source": [
    "Load participants.tsv file to extract age:"
   ]
  },
  {
   "cell_type": "code",
   "execution_count": null,
   "id": "b38e79e0",
   "metadata": {},
   "outputs": [],
   "source": [
    "participants_fn = layout.get(return_type='filename', extension='.tsv', scope='raw')[0]\n",
    "participants_df = pd.read_csv(participants_fn, sep='\\t')"
   ]
  },
  {
   "cell_type": "markdown",
   "id": "6c4c4b6d",
   "metadata": {},
   "source": [
    "### Some basic data processing"
   ]
  },
  {
   "cell_type": "markdown",
   "id": "079daf29",
   "metadata": {},
   "source": [
    "#### Mean corrected for age effect"
   ]
  },
  {
   "cell_type": "markdown",
   "id": "3f51cf00",
   "metadata": {},
   "source": [
    "Normalize the age regressors:"
   ]
  },
  {
   "cell_type": "code",
   "execution_count": null,
   "id": "6a890caa",
   "metadata": {},
   "outputs": [],
   "source": [
    "ages = participants_df['age'].values\n",
    "ages = ages - np.mean(ages)\n",
    "ages = ages.reshape((-1,1))"
   ]
  },
  {
   "cell_type": "markdown",
   "id": "489ad7b3",
   "metadata": {},
   "source": [
    "Define design matrix with a constant term and age:"
   ]
  },
  {
   "cell_type": "code",
   "execution_count": null,
   "id": "629fc84b",
   "metadata": {},
   "outputs": [],
   "source": [
    "design_matrix = pd.DataFrame(\n",
    "    np.hstack((ages, np.ones_like(ages))),\n",
    "    columns=['age', 'intercept'])"
   ]
  },
  {
   "cell_type": "markdown",
   "id": "2740f68f",
   "metadata": {},
   "source": [
    "Fit the model to the CVR and delay data:"
   ]
  },
  {
   "cell_type": "code",
   "execution_count": null,
   "id": "0869a026",
   "metadata": {},
   "outputs": [],
   "source": [
    "cvr_second_level_model = SecondLevelModel(mask_img=mask_intersection, smoothing_fwhm=5).fit(\n",
    "    cvr_img, design_matrix=design_matrix)"
   ]
  },
  {
   "cell_type": "code",
   "execution_count": null,
   "id": "a094d9cc",
   "metadata": {},
   "outputs": [],
   "source": [
    "delays_second_level_model = SecondLevelModel(mask_img=mask_intersection, smoothing_fwhm=5).fit(\n",
    "    delays_img, design_matrix=design_matrix)"
   ]
  },
  {
   "cell_type": "markdown",
   "id": "16f3dfff",
   "metadata": {},
   "source": [
    "Compute the contrasts for the intercept, and extract effect size for each type of data:"
   ]
  },
  {
   "cell_type": "code",
   "execution_count": null,
   "id": "30ab95be",
   "metadata": {},
   "outputs": [],
   "source": [
    "delays_con = delays_second_level_model.compute_contrast(second_level_contrast='intercept', output_type='effect_size')"
   ]
  },
  {
   "cell_type": "code",
   "execution_count": null,
   "id": "645bc39b",
   "metadata": {},
   "outputs": [],
   "source": [
    "cvr_con = cvr_second_level_model.compute_contrast(second_level_contrast='intercept', output_type='effect_size')"
   ]
  },
  {
   "cell_type": "markdown",
   "id": "b31ab2ff",
   "metadata": {},
   "source": [
    "#### CVR by age-group and regressions"
   ]
  },
  {
   "cell_type": "code",
   "execution_count": null,
   "id": "4706fc71",
   "metadata": {
    "scrolled": true
   },
   "outputs": [],
   "source": [
    "tissue_list = ['GM', 'WM', 'CSF']\n",
    "fn = dict()\n",
    "tissue_niimg = dict()\n",
    "tissue_resampled_niimg = dict()\n",
    "tissue_mask_niimg = dict()\n",
    "cvr_niimg = dict()\n",
    "cvr_mean = dict()\n",
    "cvr_data = dict()\n",
    "data_filter = dict(return_type='filename', extension='.nii.gz')\n",
    "space='MNI152NLin6Asym'\n",
    "label=None\n",
    "sub_list = sorted(layout.derivatives['cvrmap'].get_subject())\n",
    "\n",
    "for sub in sub_list:\n",
    "    for tissue in tissue_list:\n",
    "        cvr_niimg[sub] = layout.derivatives['cvrmap'].get(**data_filter, label=label, space=space, suffix='cvr', subject=sub)[0]\n",
    "        fn[(sub, tissue)] = layout.derivatives['fMRIPrep'].get(**data_filter, suffix='probseg', space=None, label=tissue, subject=sub)[0]\n",
    "        tissue_niimg[(sub, tissue)] = nb.load(fn[(sub, tissue)])\n",
    "        tissue_resampled_niimg[(sub, tissue)] = image.resample_to_img(tissue_niimg[(sub, tissue)], cvr_niimg[sub], interpolation='nearest')\n",
    "        tissue_mask_niimg[(sub, tissue)] = image.binarize_img(tissue_resampled_niimg[(sub, tissue)], threshold='95%')\n",
    "        cvr_data[(sub, tissue)] = masking.apply_mask(cvr_niimg[sub] , tissue_mask_niimg[(sub, tissue)], ensure_finite = False)\n",
    "        cvr_data[(sub, tissue)] = cvr_data[(sub, tissue)][~np.isnan(cvr_data[(sub, tissue)])]\n",
    "        cvr_mean[(sub, tissue)] = np.mean(cvr_data[(sub, tissue)])"
   ]
  },
  {
   "cell_type": "code",
   "execution_count": null,
   "id": "21666a3d",
   "metadata": {},
   "outputs": [],
   "source": [
    "participants_df['age_group'] = np.where(participants_df['age'] < 30, 'Age < 30', np.where(participants_df['age'] > 50, 'Age > 50', '30 < Age < 50'))\n",
    "for tissue in tissue_list:\n",
    "    participants_df[tissue] = \"\"\n",
    "    for sub in sub_list:\n",
    "        participants_df.loc[participants_df['participant_id'] == 'sub-' + sub, tissue] = cvr_mean[(sub, tissue)]"
   ]
  },
  {
   "cell_type": "code",
   "execution_count": null,
   "id": "ac862858",
   "metadata": {},
   "outputs": [],
   "source": [
    "x = dict()\n",
    "y = dict()\n",
    "stats = dict()\n",
    "\n",
    "for tissue in tissue_list:\n",
    "    x[tissue] = participants_df[tissue].values.astype('float')\n",
    "    y[tissue] = participants_df['age'].values\n",
    "    stats[tissue] = scipy.stats.linregress(y[tissue], x[tissue])\n",
    "    print('Results for  %s :' % tissue)\n",
    "    print(stats[tissue])"
   ]
  },
  {
   "cell_type": "markdown",
   "id": "2d58a033",
   "metadata": {},
   "source": [
    "## Figures"
   ]
  },
  {
   "cell_type": "markdown",
   "id": "9d0aafb2",
   "metadata": {},
   "source": [
    "### Figure 2 (upper part): GM-CVR and WM-CVR versus age groups (violin plots)"
   ]
  },
  {
   "cell_type": "code",
   "execution_count": null,
   "id": "b830e7ab",
   "metadata": {
    "scrolled": false
   },
   "outputs": [],
   "source": [
    "tissue_display_list = ['GM', 'WM']\n",
    "group_list = ['Age < 30', '30 < Age < 50', 'Age > 50']\n",
    "fig = go.Figure()\n",
    "for tissue in tissue_display_list:\n",
    "    fig.add_trace(go.Violin(y=participants_df[tissue], x=participants_df['age_group'], legendgroup=tissue, scalegroup=tissue, name=tissue))\n",
    "fig.update_traces(box_visible=False, meanline_visible=True)\n",
    "fig.update_layout(violinmode='group', plot_bgcolor='white')\n",
    "fig.update_yaxes(title='CVR (%BOLD/mmHg)')\n",
    "for group in group_list:\n",
    "    fig.add_trace(go.Scatter(x=[group], y=[0.5], marker=dict(size=15), mode='markers', marker_symbol='star', marker_line_width=2, marker_color='blue', marker_line_color='blue', showlegend=False))\n",
    "fig.show()"
   ]
  },
  {
   "cell_type": "markdown",
   "id": "065d25fa",
   "metadata": {},
   "source": [
    "### Figure 2 (lower part): CVR - age corrected mean"
   ]
  },
  {
   "cell_type": "code",
   "execution_count": null,
   "id": "874fd6af",
   "metadata": {},
   "outputs": [],
   "source": [
    "plotting.plot_img(cvr_con, cmap='hot', display_mode='z', black_bg=True, cbar_tick_format=\"%0.2g\",  annotate=False, colorbar=True, vmin=0, vmax=0.8, cut_coords=10)"
   ]
  },
  {
   "cell_type": "markdown",
   "id": "6b6e1d62",
   "metadata": {},
   "source": [
    "### Extented Data Figure 3: GM-CVR and WM-CVR versus age, with linear regressions"
   ]
  },
  {
   "cell_type": "code",
   "execution_count": null,
   "id": "3cbaa08c",
   "metadata": {},
   "outputs": [],
   "source": [
    "x_span = np.arange(20,70,1)\n",
    "font = dict(size=15)\n",
    "\n",
    "fig = go.Figure()\n",
    "fig.add_trace(go.Scatter(x=participants_df['age'], y=participants_df['GM'], name='GM (r=-0.39, p=0.5%)', mode='markers', marker=dict(size=10, color='blue')))\n",
    "fig.add_trace(go.Scatter(x=participants_df['age'], y=participants_df['WM'], name='WM (r=-0.32, p=2.2%)', mode='markers', marker=dict(size=10, color='red')))\n",
    "fig.add_trace(go.Scatter(x=x_span, y=stats['GM'].intercept + stats['GM'].slope * x_span, name='GM fit', mode='lines', marker=dict(size=10, color='blue'), showlegend=False))\n",
    "fig.add_trace(go.Scatter(x=x_span, y=stats['WM'].intercept + stats['WM'].slope * x_span, name='WM fit', mode='lines', marker=dict(size=10, color='red'), showlegend=False))\n",
    "fig.update_layout(plot_bgcolor='white', font=font)\n",
    "fig.update_yaxes(title='CVR (%BOLD/mmHg)')\n",
    "fig.update_xaxes(title='age (years)')\n",
    "fig.update_layout(legend=dict(yanchor=\"top\", xanchor=\"right\", x=0.8, font=font))"
   ]
  },
  {
   "cell_type": "markdown",
   "id": "ae1636f1",
   "metadata": {},
   "source": [
    "### Extended Data Figure 4: Delays - age corrected mean"
   ]
  },
  {
   "cell_type": "markdown",
   "id": "9311adb2",
   "metadata": {},
   "source": [
    "For visual purposes it is convenient to set voxels outside the mask to 1:"
   ]
  },
  {
   "cell_type": "code",
   "execution_count": null,
   "id": "bc6c3c0c",
   "metadata": {},
   "outputs": [],
   "source": [
    "vmax = 1"
   ]
  },
  {
   "cell_type": "code",
   "execution_count": null,
   "id": "ecddba51",
   "metadata": {},
   "outputs": [],
   "source": [
    "delays_con_display = image.math_img('np.where(mask, img, %s)' % vmax, img=delays_con, mask=mask_intersection)"
   ]
  },
  {
   "cell_type": "code",
   "execution_count": null,
   "id": "1f61ce68",
   "metadata": {},
   "outputs": [],
   "source": [
    "plotting.plot_img(delays_con_display, cmap='black_purple_r', display_mode='z', black_bg=True, cbar_tick_format=\"%0.2g\",  annotate=False, colorbar=True, vmin=-2.5, vmax=vmax, cut_coords=10)"
   ]
  }
 ],
 "metadata": {
  "kernelspec": {
   "display_name": "Python [conda env:cvrmap_paper]",
   "language": "python",
   "name": "conda-env-cvrmap_paper-py"
  },
  "language_info": {
   "codemirror_mode": {
    "name": "ipython",
    "version": 3
   },
   "file_extension": ".py",
   "mimetype": "text/x-python",
   "name": "python",
   "nbconvert_exporter": "python",
   "pygments_lexer": "ipython3",
   "version": "3.11.2"
  }
 },
 "nbformat": 4,
 "nbformat_minor": 5
}
